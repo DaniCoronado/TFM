{
 "cells": [
  {
   "cell_type": "code",
   "execution_count": 1,
   "id": "1fd02fca",
   "metadata": {
    "execution": {
     "iopub.execute_input": "2022-12-06T14:06:25.869699Z",
     "iopub.status.busy": "2022-12-06T14:06:25.869100Z",
     "iopub.status.idle": "2022-12-06T14:10:42.600174Z",
     "shell.execute_reply": "2022-12-06T14:10:42.598465Z"
    },
    "papermill": {
     "duration": 256.751918,
     "end_time": "2022-12-06T14:10:42.614508",
     "exception": false,
     "start_time": "2022-12-06T14:06:25.862590",
     "status": "completed"
    },
    "tags": []
   },
   "outputs": [
    {
     "data": {
      "text/html": [
       "<div>\n",
       "<style scoped>\n",
       "    .dataframe tbody tr th:only-of-type {\n",
       "        vertical-align: middle;\n",
       "    }\n",
       "\n",
       "    .dataframe tbody tr th {\n",
       "        vertical-align: top;\n",
       "    }\n",
       "\n",
       "    .dataframe thead th {\n",
       "        text-align: right;\n",
       "    }\n",
       "</style>\n",
       "<table border=\"1\" class=\"dataframe\">\n",
       "  <thead>\n",
       "    <tr style=\"text-align: right;\">\n",
       "      <th></th>\n",
       "      <th>title</th>\n",
       "      <th>tag</th>\n",
       "      <th>artist</th>\n",
       "      <th>year</th>\n",
       "      <th>views</th>\n",
       "      <th>features</th>\n",
       "      <th>lyrics</th>\n",
       "      <th>id</th>\n",
       "    </tr>\n",
       "  </thead>\n",
       "  <tbody>\n",
       "    <tr>\n",
       "      <th>0</th>\n",
       "      <td>Killa Cam</td>\n",
       "      <td>rap</td>\n",
       "      <td>Cam'ron</td>\n",
       "      <td>2004</td>\n",
       "      <td>173166</td>\n",
       "      <td>{\"Cam\\\\'ron\",\"Opera Steve\"}</td>\n",
       "      <td>[Chorus: Opera Steve &amp; Cam'ron]\\nKilla Cam, Ki...</td>\n",
       "      <td>1</td>\n",
       "    </tr>\n",
       "    <tr>\n",
       "      <th>1</th>\n",
       "      <td>Can I Live</td>\n",
       "      <td>rap</td>\n",
       "      <td>JAY-Z</td>\n",
       "      <td>1996</td>\n",
       "      <td>468624</td>\n",
       "      <td>{}</td>\n",
       "      <td>[Produced by Irv Gotti]\\n\\n[Intro]\\nYeah, hah,...</td>\n",
       "      <td>3</td>\n",
       "    </tr>\n",
       "    <tr>\n",
       "      <th>2</th>\n",
       "      <td>Forgive Me Father</td>\n",
       "      <td>rap</td>\n",
       "      <td>Fabolous</td>\n",
       "      <td>2003</td>\n",
       "      <td>4743</td>\n",
       "      <td>{}</td>\n",
       "      <td>Maybe cause I'm eatin\\nAnd these bastards fien...</td>\n",
       "      <td>4</td>\n",
       "    </tr>\n",
       "    <tr>\n",
       "      <th>3</th>\n",
       "      <td>Down and Out</td>\n",
       "      <td>rap</td>\n",
       "      <td>Cam'ron</td>\n",
       "      <td>2004</td>\n",
       "      <td>144404</td>\n",
       "      <td>{\"Cam\\\\'ron\",\"Kanye West\",\"Syleena Johnson\"}</td>\n",
       "      <td>[Produced by Kanye West and Brian Miller]\\n\\n[...</td>\n",
       "      <td>5</td>\n",
       "    </tr>\n",
       "    <tr>\n",
       "      <th>4</th>\n",
       "      <td>Fly In</td>\n",
       "      <td>rap</td>\n",
       "      <td>Lil Wayne</td>\n",
       "      <td>2005</td>\n",
       "      <td>78271</td>\n",
       "      <td>{}</td>\n",
       "      <td>[Intro]\\nSo they ask me\\n\"Young boy\\nWhat you ...</td>\n",
       "      <td>6</td>\n",
       "    </tr>\n",
       "    <tr>\n",
       "      <th>...</th>\n",
       "      <td>...</td>\n",
       "      <td>...</td>\n",
       "      <td>...</td>\n",
       "      <td>...</td>\n",
       "      <td>...</td>\n",
       "      <td>...</td>\n",
       "      <td>...</td>\n",
       "      <td>...</td>\n",
       "    </tr>\n",
       "    <tr>\n",
       "      <th>5913406</th>\n",
       "      <td>Raise Our Hands</td>\n",
       "      <td>pop</td>\n",
       "      <td>Culture Code, Pag &amp; Mylo</td>\n",
       "      <td>2016</td>\n",
       "      <td>3</td>\n",
       "      <td>{Elex,\"Culture Code / Pag &amp; Mylo\"}</td>\n",
       "      <td>[Verse 1]\\nHere our purpose feels alive\\nWe ar...</td>\n",
       "      <td>7882845</td>\n",
       "    </tr>\n",
       "    <tr>\n",
       "      <th>5913407</th>\n",
       "      <td>CEO</td>\n",
       "      <td>rap</td>\n",
       "      <td>Antropolita</td>\n",
       "      <td>2022</td>\n",
       "      <td>5</td>\n",
       "      <td>{}</td>\n",
       "      <td>Jestem CEO w tym\\nTo jara twoją bitch\\nNikt na...</td>\n",
       "      <td>7882846</td>\n",
       "    </tr>\n",
       "    <tr>\n",
       "      <th>5913408</th>\n",
       "      <td>JokAir - Big Drip ft. ARÓN  LineMa Traducción ...</td>\n",
       "      <td>rap</td>\n",
       "      <td>Genius Traducciones al Espaol</td>\n",
       "      <td>2022</td>\n",
       "      <td>1</td>\n",
       "      <td>{\"Genius Traducciones al Español\"}</td>\n",
       "      <td>[Instrumental]</td>\n",
       "      <td>7882847</td>\n",
       "    </tr>\n",
       "    <tr>\n",
       "      <th>5913409</th>\n",
       "      <td>New Number</td>\n",
       "      <td>country</td>\n",
       "      <td>Alana Springsteen</td>\n",
       "      <td>2022</td>\n",
       "      <td>1</td>\n",
       "      <td>{}</td>\n",
       "      <td>[Verse 1]\\nYou need a new number, one that ain...</td>\n",
       "      <td>7882848</td>\n",
       "    </tr>\n",
       "    <tr>\n",
       "      <th>5913410</th>\n",
       "      <td>Gone</td>\n",
       "      <td>rap</td>\n",
       "      <td>VAPO</td>\n",
       "      <td>2022</td>\n",
       "      <td>2</td>\n",
       "      <td>{\"Loco (로꼬)\"}</td>\n",
       "      <td>[Instrumental]</td>\n",
       "      <td>7882849</td>\n",
       "    </tr>\n",
       "  </tbody>\n",
       "</table>\n",
       "<p>5910947 rows × 8 columns</p>\n",
       "</div>"
      ],
      "text/plain": [
       "                                                     title      tag  \\\n",
       "0                                                Killa Cam      rap   \n",
       "1                                               Can I Live      rap   \n",
       "2                                        Forgive Me Father      rap   \n",
       "3                                             Down and Out      rap   \n",
       "4                                                   Fly In      rap   \n",
       "...                                                    ...      ...   \n",
       "5913406                                    Raise Our Hands      pop   \n",
       "5913407                                                CEO      rap   \n",
       "5913408  JokAir - Big Drip ft. ARÓN  LineMa Traducción ...      rap   \n",
       "5913409                                         New Number  country   \n",
       "5913410                                               Gone      rap   \n",
       "\n",
       "                                artist  year   views  \\\n",
       "0                              Cam'ron  2004  173166   \n",
       "1                                JAY-Z  1996  468624   \n",
       "2                             Fabolous  2003    4743   \n",
       "3                              Cam'ron  2004  144404   \n",
       "4                            Lil Wayne  2005   78271   \n",
       "...                                ...   ...     ...   \n",
       "5913406       Culture Code, Pag & Mylo  2016       3   \n",
       "5913407                    Antropolita  2022       5   \n",
       "5913408  Genius Traducciones al Espaol  2022       1   \n",
       "5913409              Alana Springsteen  2022       1   \n",
       "5913410                           VAPO  2022       2   \n",
       "\n",
       "                                             features  \\\n",
       "0                         {\"Cam\\\\'ron\",\"Opera Steve\"}   \n",
       "1                                                  {}   \n",
       "2                                                  {}   \n",
       "3        {\"Cam\\\\'ron\",\"Kanye West\",\"Syleena Johnson\"}   \n",
       "4                                                  {}   \n",
       "...                                               ...   \n",
       "5913406            {Elex,\"Culture Code / Pag & Mylo\"}   \n",
       "5913407                                            {}   \n",
       "5913408            {\"Genius Traducciones al Español\"}   \n",
       "5913409                                            {}   \n",
       "5913410                                 {\"Loco (로꼬)\"}   \n",
       "\n",
       "                                                    lyrics       id  \n",
       "0        [Chorus: Opera Steve & Cam'ron]\\nKilla Cam, Ki...        1  \n",
       "1        [Produced by Irv Gotti]\\n\\n[Intro]\\nYeah, hah,...        3  \n",
       "2        Maybe cause I'm eatin\\nAnd these bastards fien...        4  \n",
       "3        [Produced by Kanye West and Brian Miller]\\n\\n[...        5  \n",
       "4        [Intro]\\nSo they ask me\\n\"Young boy\\nWhat you ...        6  \n",
       "...                                                    ...      ...  \n",
       "5913406  [Verse 1]\\nHere our purpose feels alive\\nWe ar...  7882845  \n",
       "5913407  Jestem CEO w tym\\nTo jara twoją bitch\\nNikt na...  7882846  \n",
       "5913408                                     [Instrumental]  7882847  \n",
       "5913409  [Verse 1]\\nYou need a new number, one that ain...  7882848  \n",
       "5913410                                     [Instrumental]  7882849  \n",
       "\n",
       "[5910947 rows x 8 columns]"
      ]
     },
     "execution_count": 1,
     "metadata": {},
     "output_type": "execute_result"
    }
   ],
   "source": [
    "import pandas as pd\n",
    "df_5MS = pd.read_csv('/kaggle/input/5-million-song-lyrics-dataset/ds2.csv').dropna()\n",
    "df_5MS"
   ]
  },
  {
   "cell_type": "code",
   "execution_count": 2,
   "id": "0d43a46e",
   "metadata": {
    "execution": {
     "iopub.execute_input": "2022-12-06T14:10:42.625990Z",
     "iopub.status.busy": "2022-12-06T14:10:42.625527Z",
     "iopub.status.idle": "2022-12-06T14:10:42.638002Z",
     "shell.execute_reply": "2022-12-06T14:10:42.636706Z"
    },
    "papermill": {
     "duration": 0.020982,
     "end_time": "2022-12-06T14:10:42.640528",
     "exception": false,
     "start_time": "2022-12-06T14:10:42.619546",
     "status": "completed"
    },
    "tags": []
   },
   "outputs": [
    {
     "data": {
      "text/plain": [
       "'[Chorus: Opera Steve & Cam\\'ron]\\nKilla Cam, Killa Cam, Cam\\nKilla Cam, Killa Cam\\nKilla Cam, Cam\\nKilla Cam, Killa Cam, Cam\\nKilla Killa Killa Cam\\nKilla Cam, Cam, Killa (Killa!)\\nKilla Cam, Killa Cam, Cam (Bases loaded)\\nKilla Cam, Killa Cam (Uh-huh)\\nKilla Cam, Cam (Santana on second, Jim on third)\\nKilla Cam, Killa Cam, Cam (I\\'m at bat)\\nKilla Killa Killa Cam\\nKilla Cam, Cam, Killa (I\\'m \\'bout to hit this shit out the world)\\nKilla Cam (Ugh, Heatmakerz), Killa Cam, Cam\\nKilla Cam, Killa Cam\\nKilla Cam, Cam (Hahahaha)\\nKilla Cam, Killa Cam, Cam\\nKilla Killa Killa Cam\\nKilla Cam, Cam, Killa (We  make this shit clap)\\nKilla Cam, Killa Cam, Cam\\nKilla Cam, Killa Cam\\nKilla Cam, Cam\\nKilla Cam, Killa Cam, Cam\\nKilla Killa Killa Cam (Killa! Killa!)\\nKilla Cam, Cam, Killa\\n[Verse 1]\\nWith the goons I spar, stay in tune with ma (What up?)\\nShe like, \"Damn, this the realest since \\'Kumbaya\\'\"\\nBomaye, Killa Cam, my Lord (My Lord)\\nStill the man with the pan, scrilla, fam, on board\\nNow bitches, they want to neuter me, niggas, they want to tutor me\\nThe hooligan in Houlihan\\'s, maneuvering\\'s nothing new to me\\nDoggy, I\\'m from the land of grind, pan-pan: gram or dime?\\nNot toes or MC when I say \"hammer time\"\\nBeef: I hammer mine, when I get my hands on nines\\nIf I had on \\'Bama line, Corduroys, Cam\\'ll shine\\nCanary burgundy: I call it \"Lemon Red\" (Red)\\nYellow diamonds in my ear, call \\'em \"Lemonheads\"\\nLemonhead, end up dead, ice like Winnipeg\\nGemstone, Flintstones, you could say I\\'m friends with Fred\\nYou unhappy, scrappy? (What\\'s going on, Scrappy?)\\nI got Pataki at me\\nBitches say I\\'m \"Tacky Daddy,\" Range look like Laffy Taffy\\n\\n[Chorus]\\nKilla Cam\\nKilla Cam Cam (sing)\\nKilla Cam Killa Cam\\nKilla Cam Cam (uhh, it\\'s me, clap)\\nKilla Cam\\nKilla Cam Cam\\nKilla Killa Killa Cam (sing)\\nKilla Cam Cam Killa (uhh, it\\'s me, clap)\\nKilla Cam\\nKilla Cam Cam (sing)\\nKilla Cam Killa Cam\\nKilla Cam Cam (clap, it\\'s me)\\nKilla Cam\\nKilla Cam Cam\\nKilla Killa Killa Cam (clap)\\n(Harlem, I know y\\'all know about this)\\nKilla Cam Cam Killa (Killa!)\\n[Verse 2]\\nYo, I\\'m from where Nicky Barnes got rich as fuck\\nRich and A hit the kitchens then were pitchin\\' up\\nRob Base, Mase, Doug E Fresh switched it up\\nI do both, who am I to fuck tradition up? (Killa!)\\nSo I parked in a tow-away zone\\nChrome...I don\\'t care\\nThat car a throwaway, homes (Killa!)\\nWelcome to Harlem, where you welcome to problems\\nOff of furlough, fellow felons get pardons\\nThem niggas knew we bang\\nStood out like Pootie Tang\\nSoon as the stoolie sings\\nThat when the toolie sing!\\nBang! Bang!\\nCame from that movie ring\\nSnap, crack jewelry bling\\nFlapjack, ooh he bring\\nClack-clack, \"ooh he ring!\"\\nBad rap, cuties cling\\nAss cap, put them in the river\\nI\\'m the sushi king\\nAnd I\\'ma keep ya fresh\\nLet the fish eat ya flesh\\nYes sir, please confess\\nJust say he\\'s the best (Killa!)\\n[Chorus]\\nKilla Cam (sing)\\nKilla Cam Cam (clap)\\nKilla Cam Killa Cam (yes)\\nKilla Cam Cam (it\\'s me, sing)\\nKilla Cam\\nKilla Cam Cam (sing)\\nKilla Killa Killa Cam\\nKilla Cam Cam Killa  (clap, yes sir, uhh)\\nKilla Cam\\nKilla Cam Cam (sing, clap)\\nKilla Cam Killa Cam\\nKilla Cam Cam (it\\'s me)\\nKilla Cam (sing, clap)\\nKilla Cam Cam\\nKilla Killa Killa Cam\\n(Let me end this shit, listen)\\nKilla Cam Cam Killa\\n\\n[Verse 3]\\n(Killa!) Yo\\nHow dope is this?\\nTeach you how to rope a chick\\nWhat you want: coke or piff?\\nGot it all, smoke or sniff? (everything)\\nAnd you know my drift\\nUsed to figures, dough and shit (millions)\\nYou a rooster nigga, just a roaster, bitch\\nAnd I roast ya bitch\\nThat\\'s how it usually ends\\nTell her and her groupie friends\\nGo get their coochie cleansed\\nWe the moody Gucci, Louis and Pucci men\\nEscada, Prada\\nThe chopper it got the Uzi lens\\nBird\\'s-eye view\\nThe birds I knew flip birds\\nBird gangs, it was birds I flew\\nAnd word I blew off herb I grew\\nI would serve on stoops\\nNow swerve in coupes\\nIt\\'s me, sing! Killa, uhh\\n\\n[Chorus]\\nKilla Cam\\nKilla Cam Cam\\nKilla Cam Killa Cam\\nKilla Cam Cam\\nKilla Cam\\nKilla Cam Cam\\nKilla Killa Killa Cam\\nKilla Cam Cam Killa\\nKilla Cam\\nKilla Cam Cam\\nKilla Cam Killa Cam\\nKilla Cam Cam\\nKilla Cam\\nKilla Cam Cam\\nKilla Killa Killa Cam\\nKilla Cam Cam Killa'"
      ]
     },
     "execution_count": 2,
     "metadata": {},
     "output_type": "execute_result"
    }
   ],
   "source": [
    "df_5MS.iloc[0]['lyrics']"
   ]
  },
  {
   "cell_type": "code",
   "execution_count": 3,
   "id": "18a2ce74",
   "metadata": {
    "execution": {
     "iopub.execute_input": "2022-12-06T14:10:42.651156Z",
     "iopub.status.busy": "2022-12-06T14:10:42.649926Z",
     "iopub.status.idle": "2022-12-06T14:10:43.076567Z",
     "shell.execute_reply": "2022-12-06T14:10:43.075399Z"
    },
    "papermill": {
     "duration": 0.434939,
     "end_time": "2022-12-06T14:10:43.079468",
     "exception": false,
     "start_time": "2022-12-06T14:10:42.644529",
     "status": "completed"
    },
    "tags": []
   },
   "outputs": [
    {
     "data": {
      "text/html": [
       "<div>\n",
       "<style scoped>\n",
       "    .dataframe tbody tr th:only-of-type {\n",
       "        vertical-align: middle;\n",
       "    }\n",
       "\n",
       "    .dataframe tbody tr th {\n",
       "        vertical-align: top;\n",
       "    }\n",
       "\n",
       "    .dataframe thead th {\n",
       "        text-align: right;\n",
       "    }\n",
       "</style>\n",
       "<table border=\"1\" class=\"dataframe\">\n",
       "  <thead>\n",
       "    <tr style=\"text-align: right;\">\n",
       "      <th></th>\n",
       "      <th>title</th>\n",
       "      <th>tag</th>\n",
       "      <th>artist</th>\n",
       "      <th>year</th>\n",
       "      <th>views</th>\n",
       "      <th>features</th>\n",
       "      <th>lyrics</th>\n",
       "      <th>id</th>\n",
       "    </tr>\n",
       "  </thead>\n",
       "  <tbody>\n",
       "    <tr>\n",
       "      <th>1524313</th>\n",
       "      <td>No Wiri Wiri</td>\n",
       "      <td>pop</td>\n",
       "      <td>El Alfa</td>\n",
       "      <td>2011</td>\n",
       "      <td>442</td>\n",
       "      <td>{}</td>\n",
       "      <td>[Letra de \"No Wiri Wiri\"]\\n\\n[Intro]\\nEl Alfa ...</td>\n",
       "      <td>1935508</td>\n",
       "    </tr>\n",
       "    <tr>\n",
       "      <th>1546995</th>\n",
       "      <td>Como Yo Me Muevo</td>\n",
       "      <td>rap</td>\n",
       "      <td>El Alfa</td>\n",
       "      <td>2014</td>\n",
       "      <td>1621</td>\n",
       "      <td>{}</td>\n",
       "      <td>Letra de \"Como Yo Me Muevo\"[Coro]\\nComo yo me ...</td>\n",
       "      <td>1961765</td>\n",
       "    </tr>\n",
       "    <tr>\n",
       "      <th>1564642</th>\n",
       "      <td>Agárrate que te solté</td>\n",
       "      <td>rap</td>\n",
       "      <td>El Alfa</td>\n",
       "      <td>2013</td>\n",
       "      <td>880</td>\n",
       "      <td>{}</td>\n",
       "      <td>Letra de \"Agárrate que te solté\"\\n\\nTu me tien...</td>\n",
       "      <td>1982182</td>\n",
       "    </tr>\n",
       "    <tr>\n",
       "      <th>1581467</th>\n",
       "      <td>Subete en el Caballo</td>\n",
       "      <td>pop</td>\n",
       "      <td>El Alfa</td>\n",
       "      <td>2015</td>\n",
       "      <td>674</td>\n",
       "      <td>{}</td>\n",
       "      <td>[Letra de \"Subete en el Caballo\"]\\n\\n[Intro]\\n...</td>\n",
       "      <td>2001316</td>\n",
       "    </tr>\n",
       "    <tr>\n",
       "      <th>1593460</th>\n",
       "      <td>Muevete Jevi</td>\n",
       "      <td>pop</td>\n",
       "      <td>El Alfa</td>\n",
       "      <td>2012</td>\n",
       "      <td>2018</td>\n",
       "      <td>{}</td>\n",
       "      <td>[Letra de \"Muevete Jevi\"]\\n\\n[Intro]\\n(¡El Alf...</td>\n",
       "      <td>2015200</td>\n",
       "    </tr>\n",
       "    <tr>\n",
       "      <th>...</th>\n",
       "      <td>...</td>\n",
       "      <td>...</td>\n",
       "      <td>...</td>\n",
       "      <td>...</td>\n",
       "      <td>...</td>\n",
       "      <td>...</td>\n",
       "      <td>...</td>\n",
       "      <td>...</td>\n",
       "    </tr>\n",
       "    <tr>\n",
       "      <th>5539760</th>\n",
       "      <td>Prende el Arbolito</td>\n",
       "      <td>rap</td>\n",
       "      <td>El Alfa</td>\n",
       "      <td>2021</td>\n",
       "      <td>1270</td>\n",
       "      <td>{\"Shelow Shaq\",\"El Cherry Scom\",\"Kiko El Crazy\"}</td>\n",
       "      <td>[Letra de \"Prende el Arbolito\" ft. El Cherry S...</td>\n",
       "      <td>7401834</td>\n",
       "    </tr>\n",
       "    <tr>\n",
       "      <th>5574282</th>\n",
       "      <td>Este Tema Maste</td>\n",
       "      <td>pop</td>\n",
       "      <td>El Alfa</td>\n",
       "      <td>2021</td>\n",
       "      <td>6051</td>\n",
       "      <td>{}</td>\n",
       "      <td>[Letra de \"Este Tema Maste\"]\\n\\n[Intro]\\nOye t...</td>\n",
       "      <td>7444583</td>\n",
       "    </tr>\n",
       "    <tr>\n",
       "      <th>5904651</th>\n",
       "      <td>Yo No Cambio lo Pana</td>\n",
       "      <td>pop</td>\n",
       "      <td>El Alfa</td>\n",
       "      <td>2022</td>\n",
       "      <td>10</td>\n",
       "      <td>{}</td>\n",
       "      <td>[Letra de \"Yo No Cambio Lo Pana\"]\\n\\n[Intro]\\n...</td>\n",
       "      <td>7871126</td>\n",
       "    </tr>\n",
       "    <tr>\n",
       "      <th>5904663</th>\n",
       "      <td>Parra Sin Doncon</td>\n",
       "      <td>rap</td>\n",
       "      <td>El Alfa</td>\n",
       "      <td>2022</td>\n",
       "      <td>10</td>\n",
       "      <td>{}</td>\n",
       "      <td>[Letra de \"Parra Sin Doncon\"]\\n\\n[Verso 1]\\nQu...</td>\n",
       "      <td>7871128</td>\n",
       "    </tr>\n",
       "    <tr>\n",
       "      <th>5912525</th>\n",
       "      <td>Pa Cobrar Streamings</td>\n",
       "      <td>pop</td>\n",
       "      <td>El Alfa</td>\n",
       "      <td>2022</td>\n",
       "      <td>30</td>\n",
       "      <td>{}</td>\n",
       "      <td>[Instrumental]</td>\n",
       "      <td>7881653</td>\n",
       "    </tr>\n",
       "  </tbody>\n",
       "</table>\n",
       "<p>79 rows × 8 columns</p>\n",
       "</div>"
      ],
      "text/plain": [
       "                         title  tag   artist  year  views  \\\n",
       "1524313           No Wiri Wiri  pop  El Alfa  2011    442   \n",
       "1546995       Como Yo Me Muevo  rap  El Alfa  2014   1621   \n",
       "1564642  Agárrate que te solté  rap  El Alfa  2013    880   \n",
       "1581467   Subete en el Caballo  pop  El Alfa  2015    674   \n",
       "1593460           Muevete Jevi  pop  El Alfa  2012   2018   \n",
       "...                        ...  ...      ...   ...    ...   \n",
       "5539760     Prende el Arbolito  rap  El Alfa  2021   1270   \n",
       "5574282        Este Tema Maste  pop  El Alfa  2021   6051   \n",
       "5904651   Yo No Cambio lo Pana  pop  El Alfa  2022     10   \n",
       "5904663       Parra Sin Doncon  rap  El Alfa  2022     10   \n",
       "5912525   Pa Cobrar Streamings  pop  El Alfa  2022     30   \n",
       "\n",
       "                                                 features  \\\n",
       "1524313                                                {}   \n",
       "1546995                                                {}   \n",
       "1564642                                                {}   \n",
       "1581467                                                {}   \n",
       "1593460                                                {}   \n",
       "...                                                   ...   \n",
       "5539760  {\"Shelow Shaq\",\"El Cherry Scom\",\"Kiko El Crazy\"}   \n",
       "5574282                                                {}   \n",
       "5904651                                                {}   \n",
       "5904663                                                {}   \n",
       "5912525                                                {}   \n",
       "\n",
       "                                                    lyrics       id  \n",
       "1524313  [Letra de \"No Wiri Wiri\"]\\n\\n[Intro]\\nEl Alfa ...  1935508  \n",
       "1546995  Letra de \"Como Yo Me Muevo\"[Coro]\\nComo yo me ...  1961765  \n",
       "1564642  Letra de \"Agárrate que te solté\"\\n\\nTu me tien...  1982182  \n",
       "1581467  [Letra de \"Subete en el Caballo\"]\\n\\n[Intro]\\n...  2001316  \n",
       "1593460  [Letra de \"Muevete Jevi\"]\\n\\n[Intro]\\n(¡El Alf...  2015200  \n",
       "...                                                    ...      ...  \n",
       "5539760  [Letra de \"Prende el Arbolito\" ft. El Cherry S...  7401834  \n",
       "5574282  [Letra de \"Este Tema Maste\"]\\n\\n[Intro]\\nOye t...  7444583  \n",
       "5904651  [Letra de \"Yo No Cambio Lo Pana\"]\\n\\n[Intro]\\n...  7871126  \n",
       "5904663  [Letra de \"Parra Sin Doncon\"]\\n\\n[Verso 1]\\nQu...  7871128  \n",
       "5912525                                     [Instrumental]  7881653  \n",
       "\n",
       "[79 rows x 8 columns]"
      ]
     },
     "execution_count": 3,
     "metadata": {},
     "output_type": "execute_result"
    }
   ],
   "source": [
    "df_5MS[df_5MS['artist']=='El Alfa']"
   ]
  },
  {
   "cell_type": "markdown",
   "id": "a8b828d3",
   "metadata": {
    "papermill": {
     "duration": 0.004119,
     "end_time": "2022-12-06T14:10:43.088143",
     "exception": false,
     "start_time": "2022-12-06T14:10:43.084024",
     "status": "completed"
    },
    "tags": []
   },
   "source": [
    "# TO DO: ELIMINAR CANCIONES EN ESPAÑOL\n",
    "1.     ELIMINAR RUIDO (NON-ENGLISH)"
   ]
  },
  {
   "cell_type": "markdown",
   "id": "d902e2f4",
   "metadata": {
    "papermill": {
     "duration": 0.003877,
     "end_time": "2022-12-06T14:10:43.096310",
     "exception": false,
     "start_time": "2022-12-06T14:10:43.092433",
     "status": "completed"
    },
    "tags": []
   },
   "source": [
    "insuficiente ram - kaggle"
   ]
  },
  {
   "cell_type": "code",
   "execution_count": 4,
   "id": "200459c4",
   "metadata": {
    "execution": {
     "iopub.execute_input": "2022-12-06T14:10:43.106457Z",
     "iopub.status.busy": "2022-12-06T14:10:43.106034Z",
     "iopub.status.idle": "2022-12-06T14:10:43.111276Z",
     "shell.execute_reply": "2022-12-06T14:10:43.109826Z"
    },
    "papermill": {
     "duration": 0.013134,
     "end_time": "2022-12-06T14:10:43.113600",
     "exception": false,
     "start_time": "2022-12-06T14:10:43.100466",
     "status": "completed"
    },
    "tags": []
   },
   "outputs": [],
   "source": [
    "# import re\n",
    "# import fasttext\n",
    "# from fasttext.FastText import _FastText\n",
    "\n",
    "# path_to_pretrained_model = '/kaggle/input/fasttext-model/lid.176.bin'\n",
    "# fmodel = _FastText(path_to_pretrained_model)\n",
    "# langs = pd.Series(fmodel.predict(df_5MS['lyrics'].apply(lambda x: re.sub(r'\\W+', ' ', x)).to_list())[0])\n",
    "# langs"
   ]
  },
  {
   "cell_type": "code",
   "execution_count": 5,
   "id": "74a48c76",
   "metadata": {
    "execution": {
     "iopub.execute_input": "2022-12-06T14:10:43.124500Z",
     "iopub.status.busy": "2022-12-06T14:10:43.124113Z",
     "iopub.status.idle": "2022-12-06T14:10:45.628365Z",
     "shell.execute_reply": "2022-12-06T14:10:45.626942Z"
    },
    "papermill": {
     "duration": 2.512813,
     "end_time": "2022-12-06T14:10:45.631092",
     "exception": false,
     "start_time": "2022-12-06T14:10:43.118279",
     "status": "completed"
    },
    "tags": []
   },
   "outputs": [],
   "source": [
    "import re\n",
    "import fasttext\n",
    "from fasttext.FastText import _FastText\n",
    "\n",
    "path_to_pretrained_model = '/kaggle/input/fasttext-model/lid.176.bin'\n",
    "fmodel = _FastText(path_to_pretrained_model)\n",
    "\n",
    "def get_lang(x):\n",
    "    txt = re.sub(r'\\W+', ' ', x)\n",
    "    l, r = fmodel.predict(txt)\n",
    "    return l[0]"
   ]
  },
  {
   "cell_type": "code",
   "execution_count": 6,
   "id": "46702ba9",
   "metadata": {
    "execution": {
     "iopub.execute_input": "2022-12-06T14:10:45.643364Z",
     "iopub.status.busy": "2022-12-06T14:10:45.641937Z",
     "iopub.status.idle": "2022-12-06T14:45:40.198975Z",
     "shell.execute_reply": "2022-12-06T14:45:40.197573Z"
    },
    "papermill": {
     "duration": 2094.567122,
     "end_time": "2022-12-06T14:45:40.202895",
     "exception": false,
     "start_time": "2022-12-06T14:10:45.635773",
     "status": "completed"
    },
    "tags": []
   },
   "outputs": [],
   "source": [
    "df_5MS = df_5MS[df_5MS['lyrics'].map(get_lang) == '__label__en']\n",
    "df_5MS.to_csv('/kaggle/working/clean_5MS.csv')"
   ]
  },
  {
   "cell_type": "code",
   "execution_count": 7,
   "id": "9d9003a7",
   "metadata": {
    "execution": {
     "iopub.execute_input": "2022-12-06T14:45:40.214952Z",
     "iopub.status.busy": "2022-12-06T14:45:40.214502Z",
     "iopub.status.idle": "2022-12-06T14:45:44.539829Z",
     "shell.execute_reply": "2022-12-06T14:45:44.538649Z"
    },
    "papermill": {
     "duration": 4.334176,
     "end_time": "2022-12-06T14:45:44.542780",
     "exception": false,
     "start_time": "2022-12-06T14:45:40.208604",
     "status": "completed"
    },
    "tags": []
   },
   "outputs": [
    {
     "data": {
      "image/png": "[encoded data removed]",
      "text/plain": [
       "<Figure size 720x360 with 1 Axes>"
      ]
     },
     "metadata": {
      "needs_background": "light"
     },
     "output_type": "display_data"
    }
   ],
   "source": [
    "import matplotlib.pyplot as plt\n",
    "import seaborn as sns\n",
    "\n",
    "plt.figure(figsize=(10,5))\n",
    "\n",
    "sns.countplot(x='tag', data=df_5MS)\n",
    "\n",
    "plt.title('Song Count by Genre')\n",
    "plt.ylabel('Number of Songs', fontsize=12)\n",
    "plt.xlabel('Genre', fontsize=12)\n",
    "plt.show()"
   ]
  },
  {
   "cell_type": "markdown",
   "id": "ade4cfcc",
   "metadata": {
    "papermill": {
     "duration": 0.005244,
     "end_time": "2022-12-06T14:45:44.553155",
     "exception": false,
     "start_time": "2022-12-06T14:45:44.547911",
     "status": "completed"
    },
    "tags": []
   },
   "source": [
    "# TO DO: BALANCEAR LA BD\n",
    "\n",
    "2.     IGUALAR LOS REGISTROS DE CADA CLASE"
   ]
  },
  {
   "cell_type": "code",
   "execution_count": 8,
   "id": "8828b485",
   "metadata": {
    "execution": {
     "iopub.execute_input": "2022-12-06T14:45:44.565222Z",
     "iopub.status.busy": "2022-12-06T14:45:44.564758Z",
     "iopub.status.idle": "2022-12-06T14:45:48.967892Z",
     "shell.execute_reply": "2022-12-06T14:45:48.966531Z"
    },
    "papermill": {
     "duration": 4.412705,
     "end_time": "2022-12-06T14:45:48.970911",
     "exception": false,
     "start_time": "2022-12-06T14:45:44.558206",
     "status": "completed"
    },
    "tags": []
   },
   "outputs": [
    {
     "data": {
      "image/png": "[encoded data removed]",
      "text/plain": [
       "<Figure size 720x360 with 1 Axes>"
      ]
     },
     "metadata": {
      "needs_background": "light"
     },
     "output_type": "display_data"
    }
   ],
   "source": [
    "grouped_5MS = df_5MS.groupby('tag')\n",
    "df_balanced = grouped_5MS.apply(lambda x: x.sample(grouped_5MS.size().min())).reset_index(drop=True)\n",
    "\n",
    "plt.figure(figsize=(10,5))\n",
    "sns.countplot(x='tag', data=df_balanced)\n",
    "\n",
    "plt.title('Song Count by Genre')\n",
    "plt.ylabel('Number of Songs', fontsize=12)\n",
    "plt.xlabel('Genre', fontsize=12)\n",
    "plt.show()"
   ]
  }
 ],
 "metadata": {
  "kernelspec": {
   "display_name": "Python 3",
   "language": "python",
   "name": "python3"
  },
  "language_info": {
   "codemirror_mode": {
    "name": "ipython",
    "version": 3
   },
   "file_extension": ".py",
   "mimetype": "text/x-python",
   "name": "python",
   "nbconvert_exporter": "python",
   "pygments_lexer": "ipython3",
   "version": "3.7.12"
  },
  "papermill": {
   "default_parameters": {},
   "duration": 2375.382127,
   "end_time": "2022-12-06T14:45:52.973211",
   "environment_variables": {},
   "exception": null,
   "input_path": "__notebook__.ipynb",
   "output_path": "__notebook__.ipynb",
   "parameters": {},
   "start_time": "2022-12-06T14:06:17.591084",
   "version": "2.3.4"
  }
 },
 "nbformat": 4,
 "nbformat_minor": 5
}
