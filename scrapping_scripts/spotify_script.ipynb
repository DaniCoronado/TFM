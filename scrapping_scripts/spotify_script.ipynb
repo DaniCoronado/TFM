{
 "cells": [
  {
   "cell_type": "code",
   "execution_count": 1,
   "id": "6795cd6e",
   "metadata": {
    "papermill": {
     "duration": 1.599817,
     "end_time": "2022-12-20T19:02:47.915396",
     "exception": false,
     "start_time": "2022-12-20T19:02:46.315579",
     "status": "completed"
    },
    "scrolled": true,
    "tags": []
   },
   "outputs": [],
   "source": [
    "import csv\n",
    "\n",
    "lista = []\n",
    "with open('..\\TFM\\clean_balanced_5MS.csv', newline='', encoding='utf8') as csvfile:\n",
    "    spamreader = csv.reader(csvfile, delimiter=',', quotechar='|')\n",
    "    for row in spamreader:\n",
    "        lista.append({'artista':row[1], 'titulo':row[2]})"
   ]
  },
  {
   "cell_type": "code",
   "execution_count": 2,
   "id": "7c4fff34",
   "metadata": {},
   "outputs": [],
   "source": [
    "import spotipy as sp\n",
    "import time\n",
    "from spotipy.oauth2 import SpotifyClientCredentials\n",
    "from tqdm import tqdm\n",
    "\n",
    "spotify = sp.Spotify(client_credentials_manager=SpotifyClientCredentials(client_id='2f2304ccb4cd4adf98af69d37dc2bd56', client_secret='bb9610e92d9a462ea40b27d11a26ea11'), requests_timeout=10)"
   ]
  },
  {
   "cell_type": "code",
   "execution_count": 3,
   "id": "582efba1-1ac5-4b33-a999-a990a38610ac",
   "metadata": {},
   "outputs": [],
   "source": [
    "ini = 1\n",
    "fin = int(len(lista) * 0.04)\n",
    "lista = lista[ini:fin]"
   ]
  },
  {
   "cell_type": "code",
   "execution_count": null,
   "id": "72c7800f",
   "metadata": {},
   "outputs": [
    {
     "name": "stderr",
     "output_type": "stream",
     "text": [
      "  0%|          | 0/50 [00:00<?, ?it/s]"
     ]
    }
   ],
   "source": [
    "fails = []\n",
    "for cancion in tqdm(lista[:50]):\n",
    "    try:\n",
    "        time.sleep(.3)\n",
    "        response = spotify.search(q=f\"{cancion['artista']}:%@ {cancion['titulo']}:%@\", limit=1)['tracks']['items'][0]\n",
    "        cancion['titulo_sp'] = response['name']\n",
    "        cancion['artista_sp'] = response['artists'][0]['name']\n",
    "        cancion['id'] = response['id']\n",
    "    except:\n",
    "        fails.append(cancion)"
   ]
  },
  {
   "cell_type": "code",
   "execution_count": 19,
   "id": "0ece7e48-55d7-462a-a751-be62900e6d4a",
   "metadata": {},
   "outputs": [],
   "source": [
    "import json\n",
    "\n",
    "with open(\"lista_1.json\", \"w\") as outlista, open(\"fails_1.json\", \"w\") as outfails:\n",
    "    json.dump(lista, outlista)\n",
    "    json.dump(fails, outfails)"
   ]
  }
 ],
 "metadata": {
  "kernelspec": {
   "display_name": "Python 3 (ipykernel)",
   "language": "python",
   "name": "python3"
  },
  "language_info": {
   "codemirror_mode": {
    "name": "ipython",
    "version": 3
   },
   "file_extension": ".py",
   "mimetype": "text/x-python",
   "name": "python",
   "nbconvert_exporter": "python",
   "pygments_lexer": "ipython3",
   "version": "3.9.7"
  },
  "papermill": {
   "default_parameters": {},
   "duration": null,
   "end_time": null,
   "environment_variables": {},
   "exception": null,
   "input_path": "__notebook__.ipynb",
   "output_path": "__notebook__.ipynb",
   "parameters": {},
   "start_time": "2022-12-20T19:02:21.348797",
   "version": "2.3.4"
  }
 },
 "nbformat": 4,
 "nbformat_minor": 5
}
