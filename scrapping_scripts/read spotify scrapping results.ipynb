{
 "cells": [
  {
   "cell_type": "code",
   "execution_count": 2,
   "id": "72120022-43ee-4717-83f7-bbdefa27f3f1",
   "metadata": {
    "scrolled": true
   },
   "outputs": [
    {
     "name": "stdout",
     "output_type": "stream",
     "text": [
      "Successfully read songs:  469554\n",
      "Not found songs:  86905\n"
     ]
    }
   ],
   "source": [
    "import json\n",
    "import glob\n",
    "\n",
    "files = glob.glob('results/listas/*', recursive=True)\n",
    "data = []\n",
    "not_found = []\n",
    "\n",
    "for single_file in files:\n",
    "    with open(single_file, 'r') as f:\n",
    "        json_file = json.load(f)\n",
    "        for row in json_file:\n",
    "            try:\n",
    "                data.append([\n",
    "                row['artista'],\n",
    "                row['titulo'],\n",
    "                row['titulo_sp'],\n",
    "                row['artista_sp'],\n",
    "                row['id']\n",
    "                ])\n",
    "            except KeyError:\n",
    "                not_found.append(row)\n",
    "\n",
    "data.sort()\n",
    "data.insert(0, ['artista','titulo','titulo_sp','artista_sp','id'])\n",
    "\n",
    "print('Successfully read songs: ', len(data))\n",
    "print('Not found songs: ', len(not_found))"
   ]
  },
  {
   "cell_type": "code",
   "execution_count": 3,
   "id": "1ad799e2",
   "metadata": {},
   "outputs": [
    {
     "name": "stdout",
     "output_type": "stream",
     "text": [
      "Search failed songs:  86905\n"
     ]
    }
   ],
   "source": [
    "files = glob.glob('results/fails/*', recursive=True)\n",
    "fails = []\n",
    "\n",
    "for single_file in files:\n",
    "    with open(single_file, 'r') as f:\n",
    "        json_file = json.load(f)\n",
    "        for row in json_file:\n",
    "            fails.append(row)\n",
    "            \n",
    "print('Search failed songs: ', len(fails))"
   ]
  },
  {
   "cell_type": "code",
   "execution_count": 4,
   "id": "a0c1d609",
   "metadata": {
    "scrolled": true
   },
   "outputs": [
    {
     "data": {
      "text/plain": [
       "True"
      ]
     },
     "execution_count": 4,
     "metadata": {},
     "output_type": "execute_result"
    }
   ],
   "source": [
    "fails == not_found"
   ]
  },
  {
   "cell_type": "code",
   "execution_count": 5,
   "id": "f33735f7",
   "metadata": {},
   "outputs": [],
   "source": [
    "import csv\n",
    "\n",
    "with open(\"5MS-spotified.csv\", \"w\", encoding=\"utf-8\", newline=\"\") as f:\n",
    "    writer = csv.writer(f, delimiter=';')\n",
    "    writer.writerows(data)"
   ]
  }
 ],
 "metadata": {
  "kernelspec": {
   "display_name": "Python 3 (ipykernel)",
   "language": "python",
   "name": "python3"
  },
  "language_info": {
   "codemirror_mode": {
    "name": "ipython",
    "version": 3
   },
   "file_extension": ".py",
   "mimetype": "text/x-python",
   "name": "python",
   "nbconvert_exporter": "python",
   "pygments_lexer": "ipython3",
   "version": "3.9.7"
  }
 },
 "nbformat": 4,
 "nbformat_minor": 5
}
