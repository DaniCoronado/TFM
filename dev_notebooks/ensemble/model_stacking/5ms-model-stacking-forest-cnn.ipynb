{
 "cells": [
  {
   "cell_type": "markdown",
   "id": "c3e9fe86",
   "metadata": {
    "papermill": {
     "duration": 0.002929,
     "end_time": "2023-06-13T17:11:06.380479",
     "exception": false,
     "start_time": "2023-06-13T17:11:06.377550",
     "status": "completed"
    },
    "tags": []
   },
   "source": [
    "# TO DO: CARGAR LOS OUTPUTS DE LOS DOS MODELOS"
   ]
  },
  {
   "cell_type": "code",
   "execution_count": 1,
   "id": "20b4b88d",
   "metadata": {
    "_cell_guid": "5d243f76-2878-4268-949e-ffb107222e36",
    "_uuid": "dbe47ff2-75f7-4593-9bcf-09750986b897",
    "collapsed": false,
    "execution": {
     "iopub.execute_input": "2023-06-13T17:11:06.387347Z",
     "iopub.status.busy": "2023-06-13T17:11:06.387005Z",
     "iopub.status.idle": "2023-06-13T17:11:07.071529Z",
     "shell.execute_reply": "2023-06-13T17:11:07.070485Z"
    },
    "jupyter": {
     "outputs_hidden": false
    },
    "papermill": {
     "duration": 0.690798,
     "end_time": "2023-06-13T17:11:07.073948",
     "exception": false,
     "start_time": "2023-06-13T17:11:06.383150",
     "status": "completed"
    },
    "tags": []
   },
   "outputs": [],
   "source": [
    "import pandas as pd\n",
    "\n",
    "cnn_probs_train = pd.read_csv('/kaggle/input/cnn-results/predicts_vs_real_TRAIN.csv', index_col=0)\n",
    "cnn_probs_test = pd.read_csv('/kaggle/input/cnn-results/predicts_vs_real_TEST.csv', index_col=0)\n",
    "cnn_columns = ['cnn_prob_0', 'cnn_prob_1', 'cnn_prob_2', 'cnn_prob_3', 'cnn_prob_4', 'cnn_prob_5', 'tag']"
   ]
  },
  {
   "cell_type": "code",
   "execution_count": 2,
   "id": "f3dfb602",
   "metadata": {
    "execution": {
     "iopub.execute_input": "2023-06-13T17:11:07.081110Z",
     "iopub.status.busy": "2023-06-13T17:11:07.080274Z",
     "iopub.status.idle": "2023-06-13T17:11:07.719006Z",
     "shell.execute_reply": "2023-06-13T17:11:07.717417Z"
    },
    "papermill": {
     "duration": 0.644921,
     "end_time": "2023-06-13T17:11:07.721540",
     "exception": false,
     "start_time": "2023-06-13T17:11:07.076619",
     "status": "completed"
    },
    "tags": []
   },
   "outputs": [
    {
     "name": "stdout",
     "output_type": "stream",
     "text": [
      "Train checker: True\n",
      "Test checker: True\n"
     ]
    }
   ],
   "source": [
    "forest_probs_train = pd.read_csv('/kaggle/input/forest-results/predicts_vs_real_TRAIN.csv', index_col=0)\n",
    "print('Train checker:', all(forest_probs_train.tag.values == cnn_probs_train.tag.values))\n",
    "forest_probs_train.drop(columns = 'tag', inplace=True)\n",
    "\n",
    "forest_probs_test = pd.read_csv('/kaggle/input/forest-results/predicts_vs_real_TEST.csv', index_col=0)\n",
    "print('Test checker:', all(forest_probs_test.tag.values == cnn_probs_test.tag.values))\n",
    "forest_probs_test.drop(columns = 'tag', inplace=True)\n",
    "forest_columns = ['forest_prob_0', 'forest_prob_1', 'forest_prob_2', 'forest_prob_3', 'forest_prob_4', 'forest_prob_5']"
   ]
  },
  {
   "cell_type": "markdown",
   "id": "1a7c9482",
   "metadata": {
    "papermill": {
     "duration": 0.002451,
     "end_time": "2023-06-13T17:11:07.726861",
     "exception": false,
     "start_time": "2023-06-13T17:11:07.724410",
     "status": "completed"
    },
    "tags": []
   },
   "source": [
    "# TO DO: CREAR DOS CONJUNTOS TRAIN Y TEST CON SUS X E Y"
   ]
  },
  {
   "cell_type": "code",
   "execution_count": 3,
   "id": "e364850b",
   "metadata": {
    "execution": {
     "iopub.execute_input": "2023-06-13T17:11:07.733768Z",
     "iopub.status.busy": "2023-06-13T17:11:07.733376Z",
     "iopub.status.idle": "2023-06-13T17:11:07.776179Z",
     "shell.execute_reply": "2023-06-13T17:11:07.775193Z"
    },
    "papermill": {
     "duration": 0.049019,
     "end_time": "2023-06-13T17:11:07.778625",
     "exception": false,
     "start_time": "2023-06-13T17:11:07.729606",
     "status": "completed"
    },
    "tags": []
   },
   "outputs": [],
   "source": [
    "cnn_probs_train.columns = cnn_probs_test.columns = cnn_columns\n",
    "forest_probs_train.columns = forest_probs_test.columns = forest_columns\n",
    "\n",
    "x_train = pd.concat([forest_probs_train, cnn_probs_train], axis=1)\n",
    "y_train = x_train.tag\n",
    "x_train.drop(columns='tag', inplace=True)\n",
    "\n",
    "x_test = pd.concat([forest_probs_test, cnn_probs_test], axis=1)\n",
    "y_test = x_test.tag\n",
    "x_test.drop(columns='tag', inplace=True)"
   ]
  },
  {
   "cell_type": "markdown",
   "id": "acde7038",
   "metadata": {
    "papermill": {
     "duration": 0.002279,
     "end_time": "2023-06-13T17:11:07.783699",
     "exception": false,
     "start_time": "2023-06-13T17:11:07.781420",
     "status": "completed"
    },
    "tags": []
   },
   "source": [
    "# TO DO: ENTRENAR UN MODELO DE REGRESION QUE HAGA DE ENSEMBLE ENTRE LOS DOS DE PARTIDA"
   ]
  },
  {
   "cell_type": "code",
   "execution_count": 4,
   "id": "a4b941e2",
   "metadata": {
    "execution": {
     "iopub.execute_input": "2023-06-13T17:11:07.790615Z",
     "iopub.status.busy": "2023-06-13T17:11:07.789870Z",
     "iopub.status.idle": "2023-06-13T17:32:49.223755Z",
     "shell.execute_reply": "2023-06-13T17:32:49.220754Z"
    },
    "papermill": {
     "duration": 1301.441328,
     "end_time": "2023-06-13T17:32:49.227491",
     "exception": false,
     "start_time": "2023-06-13T17:11:07.786163",
     "status": "completed"
    },
    "tags": []
   },
   "outputs": [
    {
     "data": {
      "text/html": [
       "<div>\n",
       "<style scoped>\n",
       "    .dataframe tbody tr th:only-of-type {\n",
       "        vertical-align: middle;\n",
       "    }\n",
       "\n",
       "    .dataframe tbody tr th {\n",
       "        vertical-align: top;\n",
       "    }\n",
       "\n",
       "    .dataframe thead th {\n",
       "        text-align: right;\n",
       "    }\n",
       "</style>\n",
       "<table border=\"1\" class=\"dataframe\">\n",
       "  <thead>\n",
       "    <tr style=\"text-align: right;\">\n",
       "      <th></th>\n",
       "      <th>precision</th>\n",
       "      <th>recall</th>\n",
       "      <th>f1-score</th>\n",
       "      <th>support</th>\n",
       "    </tr>\n",
       "  </thead>\n",
       "  <tbody>\n",
       "    <tr>\n",
       "      <th>0</th>\n",
       "      <td>0.674850</td>\n",
       "      <td>0.808884</td>\n",
       "      <td>0.735813</td>\n",
       "      <td>14138.000000</td>\n",
       "    </tr>\n",
       "    <tr>\n",
       "      <th>1</th>\n",
       "      <td>0.813247</td>\n",
       "      <td>0.260460</td>\n",
       "      <td>0.394555</td>\n",
       "      <td>3394.000000</td>\n",
       "    </tr>\n",
       "    <tr>\n",
       "      <th>2</th>\n",
       "      <td>0.358523</td>\n",
       "      <td>0.313230</td>\n",
       "      <td>0.334350</td>\n",
       "      <td>11905.000000</td>\n",
       "    </tr>\n",
       "    <tr>\n",
       "      <th>3</th>\n",
       "      <td>0.764191</td>\n",
       "      <td>0.727322</td>\n",
       "      <td>0.745301</td>\n",
       "      <td>7441.000000</td>\n",
       "    </tr>\n",
       "    <tr>\n",
       "      <th>4</th>\n",
       "      <td>0.571969</td>\n",
       "      <td>0.628118</td>\n",
       "      <td>0.598730</td>\n",
       "      <td>10584.000000</td>\n",
       "    </tr>\n",
       "    <tr>\n",
       "      <th>5</th>\n",
       "      <td>0.630064</td>\n",
       "      <td>0.645740</td>\n",
       "      <td>0.637806</td>\n",
       "      <td>12982.000000</td>\n",
       "    </tr>\n",
       "    <tr>\n",
       "      <th>accuracy</th>\n",
       "      <td>0.603732</td>\n",
       "      <td>0.603732</td>\n",
       "      <td>0.603732</td>\n",
       "      <td>0.603732</td>\n",
       "    </tr>\n",
       "    <tr>\n",
       "      <th>macro avg</th>\n",
       "      <td>0.635474</td>\n",
       "      <td>0.563959</td>\n",
       "      <td>0.574426</td>\n",
       "      <td>60444.000000</td>\n",
       "    </tr>\n",
       "    <tr>\n",
       "      <th>weighted avg</th>\n",
       "      <td>0.603682</td>\n",
       "      <td>0.603732</td>\n",
       "      <td>0.593693</td>\n",
       "      <td>60444.000000</td>\n",
       "    </tr>\n",
       "  </tbody>\n",
       "</table>\n",
       "</div>"
      ],
      "text/plain": [
       "              precision    recall  f1-score       support\n",
       "0              0.674850  0.808884  0.735813  14138.000000\n",
       "1              0.813247  0.260460  0.394555   3394.000000\n",
       "2              0.358523  0.313230  0.334350  11905.000000\n",
       "3              0.764191  0.727322  0.745301   7441.000000\n",
       "4              0.571969  0.628118  0.598730  10584.000000\n",
       "5              0.630064  0.645740  0.637806  12982.000000\n",
       "accuracy       0.603732  0.603732  0.603732      0.603732\n",
       "macro avg      0.635474  0.563959  0.574426  60444.000000\n",
       "weighted avg   0.603682  0.603732  0.593693  60444.000000"
      ]
     },
     "execution_count": 4,
     "metadata": {},
     "output_type": "execute_result"
    }
   ],
   "source": [
    "import numpy as np\n",
    "from sklearn.linear_model import LogisticRegression\n",
    "from sklearn.model_selection import GridSearchCV\n",
    "from sklearn.metrics import classification_report\n",
    "\n",
    "lr_model = LogisticRegression(max_iter=5000)\n",
    "\n",
    "parameters = {}\n",
    "parameters['C'] = [10e-3, 10e-2, 10e-1, 1, 10, 100, 1000]\n",
    "parameters['class_weight'] = [None, 'balanced']\n",
    "\n",
    "GS = GridSearchCV(lr_model, parameters)\n",
    "GS.fit(x_train, y_train)\n",
    "\n",
    "lr_model = GS.best_estimator_\n",
    "\n",
    "pred_probs_test = lr_model.predict_proba(x_test)\n",
    "y_test_pred = np.argmax(pred_probs_test, axis=1)\n",
    "report = classification_report(y_test, y_test_pred, output_dict=True)\n",
    "pd.DataFrame(report).T"
   ]
  },
  {
   "cell_type": "markdown",
   "id": "7b11388e",
   "metadata": {
    "papermill": {
     "duration": 0.002421,
     "end_time": "2023-06-13T17:32:49.232704",
     "exception": false,
     "start_time": "2023-06-13T17:32:49.230283",
     "status": "completed"
    },
    "tags": []
   },
   "source": [
    "Mejoramos **~1%** con respecto a la media aritmetica de las predicciones"
   ]
  }
 ],
 "metadata": {
  "kernelspec": {
   "display_name": "Python 3",
   "language": "python",
   "name": "python3"
  },
  "language_info": {
   "codemirror_mode": {
    "name": "ipython",
    "version": 3
   },
   "file_extension": ".py",
   "mimetype": "text/x-python",
   "name": "python",
   "nbconvert_exporter": "python",
   "pygments_lexer": "ipython3",
   "version": "3.10.10"
  },
  "papermill": {
   "default_parameters": {},
   "duration": 1314.265765,
   "end_time": "2023-06-13T17:32:50.159410",
   "environment_variables": {},
   "exception": null,
   "input_path": "__notebook__.ipynb",
   "output_path": "__notebook__.ipynb",
   "parameters": {},
   "start_time": "2023-06-13T17:10:55.893645",
   "version": "2.4.0"
  }
 },
 "nbformat": 4,
 "nbformat_minor": 5
}
