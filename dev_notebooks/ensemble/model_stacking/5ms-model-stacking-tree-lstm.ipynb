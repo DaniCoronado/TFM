{
 "cells": [
  {
   "cell_type": "markdown",
   "id": "ccf2accf",
   "metadata": {
    "papermill": {
     "duration": 0.007593,
     "end_time": "2023-06-13T17:04:02.163623",
     "exception": false,
     "start_time": "2023-06-13T17:04:02.156030",
     "status": "completed"
    },
    "tags": []
   },
   "source": [
    "# TO DO: CARGAR LOS OUTPUTS DE LOS DOS MODELOS"
   ]
  },
  {
   "cell_type": "code",
   "execution_count": 1,
   "id": "df80f0ee",
   "metadata": {
    "_cell_guid": "5d243f76-2878-4268-949e-ffb107222e36",
    "_uuid": "dbe47ff2-75f7-4593-9bcf-09750986b897",
    "collapsed": false,
    "execution": {
     "iopub.execute_input": "2023-06-13T17:04:02.173136Z",
     "iopub.status.busy": "2023-06-13T17:04:02.172602Z",
     "iopub.status.idle": "2023-06-13T17:04:02.998465Z",
     "shell.execute_reply": "2023-06-13T17:04:02.997269Z"
    },
    "jupyter": {
     "outputs_hidden": false
    },
    "papermill": {
     "duration": 0.834662,
     "end_time": "2023-06-13T17:04:03.002097",
     "exception": false,
     "start_time": "2023-06-13T17:04:02.167435",
     "status": "completed"
    },
    "tags": []
   },
   "outputs": [],
   "source": [
    "import pandas as pd\n",
    "\n",
    "lstm_probs_train = pd.read_csv('/kaggle/input/lstm-results/predicts_vs_real_TRAIN.csv', index_col=0)\n",
    "lstm_probs_test = pd.read_csv('/kaggle/input/lstm-results/predicts_vs_real_TEST.csv', index_col=0)\n",
    "lstm_columns = ['lstm_prob_0', 'lstm_prob_1', 'lstm_prob_2', 'lstm_prob_3', 'lstm_prob_4', 'lstm_prob_5', 'tag']"
   ]
  },
  {
   "cell_type": "code",
   "execution_count": 2,
   "id": "d17e134b",
   "metadata": {
    "execution": {
     "iopub.execute_input": "2023-06-13T17:04:03.012754Z",
     "iopub.status.busy": "2023-06-13T17:04:03.012280Z",
     "iopub.status.idle": "2023-06-13T17:04:03.855252Z",
     "shell.execute_reply": "2023-06-13T17:04:03.853724Z"
    },
    "papermill": {
     "duration": 0.851562,
     "end_time": "2023-06-13T17:04:03.858617",
     "exception": false,
     "start_time": "2023-06-13T17:04:03.007055",
     "status": "completed"
    },
    "tags": []
   },
   "outputs": [
    {
     "name": "stdout",
     "output_type": "stream",
     "text": [
      "Train checker: True\n",
      "Test checker: True\n"
     ]
    }
   ],
   "source": [
    "tree_probs_train = pd.read_csv('/kaggle/input/tree-results/predicts_vs_real_TRAIN.csv', index_col=0)\n",
    "print('Train checker:', all(tree_probs_train.tag.values == lstm_probs_train.tag.values))\n",
    "tree_probs_train.drop(columns = 'tag', inplace=True)\n",
    "\n",
    "tree_probs_test = pd.read_csv('/kaggle/input/tree-results/predicts_vs_real_TEST.csv', index_col=0)\n",
    "print('Test checker:', all(tree_probs_test.tag.values == lstm_probs_test.tag.values))\n",
    "tree_probs_test.drop(columns = 'tag', inplace=True)\n",
    "tree_columns = ['tree_prob_0', 'tree_prob_1', 'tree_prob_2', 'tree_prob_3', 'tree_prob_4', 'tree_prob_5']"
   ]
  },
  {
   "cell_type": "markdown",
   "id": "93b28413",
   "metadata": {
    "papermill": {
     "duration": 0.003353,
     "end_time": "2023-06-13T17:04:03.865802",
     "exception": false,
     "start_time": "2023-06-13T17:04:03.862449",
     "status": "completed"
    },
    "tags": []
   },
   "source": [
    "# TO DO: CREAR DOS CONJUNTOS TRAIN Y TEST CON SUS X E Y"
   ]
  },
  {
   "cell_type": "code",
   "execution_count": 3,
   "id": "1a2dccf7",
   "metadata": {
    "execution": {
     "iopub.execute_input": "2023-06-13T17:04:03.875239Z",
     "iopub.status.busy": "2023-06-13T17:04:03.874788Z",
     "iopub.status.idle": "2023-06-13T17:04:03.932924Z",
     "shell.execute_reply": "2023-06-13T17:04:03.931694Z"
    },
    "papermill": {
     "duration": 0.066443,
     "end_time": "2023-06-13T17:04:03.935997",
     "exception": false,
     "start_time": "2023-06-13T17:04:03.869554",
     "status": "completed"
    },
    "tags": []
   },
   "outputs": [],
   "source": [
    "lstm_probs_train.columns = lstm_probs_test.columns = lstm_columns\n",
    "tree_probs_train.columns = tree_probs_test.columns = tree_columns\n",
    "\n",
    "x_train = pd.concat([tree_probs_train, lstm_probs_train], axis=1)\n",
    "y_train = x_train.tag\n",
    "x_train.drop(columns='tag', inplace=True)\n",
    "\n",
    "x_test = pd.concat([tree_probs_test, lstm_probs_test], axis=1)\n",
    "y_test = x_test.tag\n",
    "x_test.drop(columns='tag', inplace=True)"
   ]
  },
  {
   "cell_type": "markdown",
   "id": "71bdf64e",
   "metadata": {
    "papermill": {
     "duration": 0.003608,
     "end_time": "2023-06-13T17:04:03.943700",
     "exception": false,
     "start_time": "2023-06-13T17:04:03.940092",
     "status": "completed"
    },
    "tags": []
   },
   "source": [
    "# TO DO: ENTRENAR UN MODELO DE REGRESION QUE HAGA DE ENSEMBLE ENTRE LOS DOS DE PARTIDA"
   ]
  },
  {
   "cell_type": "code",
   "execution_count": 4,
   "id": "d3b78e8f",
   "metadata": {
    "execution": {
     "iopub.execute_input": "2023-06-13T17:04:03.953528Z",
     "iopub.status.busy": "2023-06-13T17:04:03.952647Z",
     "iopub.status.idle": "2023-06-13T17:33:44.933944Z",
     "shell.execute_reply": "2023-06-13T17:33:44.932560Z"
    },
    "papermill": {
     "duration": 1780.993106,
     "end_time": "2023-06-13T17:33:44.940530",
     "exception": false,
     "start_time": "2023-06-13T17:04:03.947424",
     "status": "completed"
    },
    "tags": []
   },
   "outputs": [
    {
     "data": {
      "text/html": [
       "<div>\n",
       "<style scoped>\n",
       "    .dataframe tbody tr th:only-of-type {\n",
       "        vertical-align: middle;\n",
       "    }\n",
       "\n",
       "    .dataframe tbody tr th {\n",
       "        vertical-align: top;\n",
       "    }\n",
       "\n",
       "    .dataframe thead th {\n",
       "        text-align: right;\n",
       "    }\n",
       "</style>\n",
       "<table border=\"1\" class=\"dataframe\">\n",
       "  <thead>\n",
       "    <tr style=\"text-align: right;\">\n",
       "      <th></th>\n",
       "      <th>precision</th>\n",
       "      <th>recall</th>\n",
       "      <th>f1-score</th>\n",
       "      <th>support</th>\n",
       "    </tr>\n",
       "  </thead>\n",
       "  <tbody>\n",
       "    <tr>\n",
       "      <th>0</th>\n",
       "      <td>0.639289</td>\n",
       "      <td>0.801033</td>\n",
       "      <td>0.711079</td>\n",
       "      <td>14138.000000</td>\n",
       "    </tr>\n",
       "    <tr>\n",
       "      <th>1</th>\n",
       "      <td>0.802124</td>\n",
       "      <td>0.244844</td>\n",
       "      <td>0.375169</td>\n",
       "      <td>3394.000000</td>\n",
       "    </tr>\n",
       "    <tr>\n",
       "      <th>2</th>\n",
       "      <td>0.348275</td>\n",
       "      <td>0.308694</td>\n",
       "      <td>0.327292</td>\n",
       "      <td>11905.000000</td>\n",
       "    </tr>\n",
       "    <tr>\n",
       "      <th>3</th>\n",
       "      <td>0.727968</td>\n",
       "      <td>0.716033</td>\n",
       "      <td>0.721951</td>\n",
       "      <td>7441.000000</td>\n",
       "    </tr>\n",
       "    <tr>\n",
       "      <th>4</th>\n",
       "      <td>0.538642</td>\n",
       "      <td>0.586073</td>\n",
       "      <td>0.561357</td>\n",
       "      <td>10584.000000</td>\n",
       "    </tr>\n",
       "    <tr>\n",
       "      <th>5</th>\n",
       "      <td>0.629449</td>\n",
       "      <td>0.596672</td>\n",
       "      <td>0.612623</td>\n",
       "      <td>12982.000000</td>\n",
       "    </tr>\n",
       "    <tr>\n",
       "      <th>accuracy</th>\n",
       "      <td>0.580835</td>\n",
       "      <td>0.580835</td>\n",
       "      <td>0.580835</td>\n",
       "      <td>0.580835</td>\n",
       "    </tr>\n",
       "    <tr>\n",
       "      <th>macro avg</th>\n",
       "      <td>0.614291</td>\n",
       "      <td>0.542225</td>\n",
       "      <td>0.551579</td>\n",
       "      <td>60444.000000</td>\n",
       "    </tr>\n",
       "    <tr>\n",
       "      <th>weighted avg</th>\n",
       "      <td>0.582294</td>\n",
       "      <td>0.580835</td>\n",
       "      <td>0.570602</td>\n",
       "      <td>60444.000000</td>\n",
       "    </tr>\n",
       "  </tbody>\n",
       "</table>\n",
       "</div>"
      ],
      "text/plain": [
       "              precision    recall  f1-score       support\n",
       "0              0.639289  0.801033  0.711079  14138.000000\n",
       "1              0.802124  0.244844  0.375169   3394.000000\n",
       "2              0.348275  0.308694  0.327292  11905.000000\n",
       "3              0.727968  0.716033  0.721951   7441.000000\n",
       "4              0.538642  0.586073  0.561357  10584.000000\n",
       "5              0.629449  0.596672  0.612623  12982.000000\n",
       "accuracy       0.580835  0.580835  0.580835      0.580835\n",
       "macro avg      0.614291  0.542225  0.551579  60444.000000\n",
       "weighted avg   0.582294  0.580835  0.570602  60444.000000"
      ]
     },
     "execution_count": 4,
     "metadata": {},
     "output_type": "execute_result"
    }
   ],
   "source": [
    "import numpy as np\n",
    "from sklearn.linear_model import LogisticRegression\n",
    "from sklearn.model_selection import GridSearchCV\n",
    "from sklearn.metrics import classification_report\n",
    "\n",
    "lr_model = LogisticRegression(max_iter=5000)\n",
    "\n",
    "parameters = {}\n",
    "parameters['C'] = [10e-3, 10e-2, 10e-1, 1, 10, 100, 1000]\n",
    "parameters['class_weight'] = [None, 'balanced']\n",
    "\n",
    "GS = GridSearchCV(lr_model, parameters)\n",
    "GS.fit(x_train, y_train)\n",
    "\n",
    "lr_model = GS.best_estimator_\n",
    "\n",
    "pred_probs_test = lr_model.predict_proba(x_test)\n",
    "y_test_pred = np.argmax(pred_probs_test, axis=1)\n",
    "report = classification_report(y_test, y_test_pred, output_dict=True)\n",
    "pd.DataFrame(report).T"
   ]
  },
  {
   "cell_type": "markdown",
   "id": "db114d5d",
   "metadata": {
    "papermill": {
     "duration": 0.003662,
     "end_time": "2023-06-13T17:33:44.948303",
     "exception": false,
     "start_time": "2023-06-13T17:33:44.944641",
     "status": "completed"
    },
    "tags": []
   },
   "source": [
    "Mejoramos **~1%** con respecto a la media aritmetica de las predicciones"
   ]
  }
 ],
 "metadata": {
  "kernelspec": {
   "display_name": "Python 3",
   "language": "python",
   "name": "python3"
  },
  "language_info": {
   "codemirror_mode": {
    "name": "ipython",
    "version": 3
   },
   "file_extension": ".py",
   "mimetype": "text/x-python",
   "name": "python",
   "nbconvert_exporter": "python",
   "pygments_lexer": "ipython3",
   "version": "3.7.12"
  },
  "papermill": {
   "default_parameters": {},
   "duration": 1795.116305,
   "end_time": "2023-06-13T17:33:45.782760",
   "environment_variables": {},
   "exception": null,
   "input_path": "__notebook__.ipynb",
   "output_path": "__notebook__.ipynb",
   "parameters": {},
   "start_time": "2023-06-13T17:03:50.666455",
   "version": "2.3.4"
  }
 },
 "nbformat": 4,
 "nbformat_minor": 5
}
