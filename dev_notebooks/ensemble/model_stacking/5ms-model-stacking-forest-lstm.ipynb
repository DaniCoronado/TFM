{
 "cells": [
  {
   "cell_type": "markdown",
   "id": "458e4e3f",
   "metadata": {
    "papermill": {
     "duration": 0.004222,
     "end_time": "2023-06-13T17:04:24.398964",
     "exception": false,
     "start_time": "2023-06-13T17:04:24.394742",
     "status": "completed"
    },
    "tags": []
   },
   "source": [
    "# TO DO: CARGAR LOS OUTPUTS DE LOS DOS MODELOS"
   ]
  },
  {
   "cell_type": "code",
   "execution_count": 1,
   "id": "0c71466d",
   "metadata": {
    "_cell_guid": "5d243f76-2878-4268-949e-ffb107222e36",
    "_uuid": "dbe47ff2-75f7-4593-9bcf-09750986b897",
    "collapsed": false,
    "execution": {
     "iopub.execute_input": "2023-06-13T17:04:24.407886Z",
     "iopub.status.busy": "2023-06-13T17:04:24.407485Z",
     "iopub.status.idle": "2023-06-13T17:04:25.200150Z",
     "shell.execute_reply": "2023-06-13T17:04:25.198690Z"
    },
    "jupyter": {
     "outputs_hidden": false
    },
    "papermill": {
     "duration": 0.800567,
     "end_time": "2023-06-13T17:04:25.203178",
     "exception": false,
     "start_time": "2023-06-13T17:04:24.402611",
     "status": "completed"
    },
    "tags": []
   },
   "outputs": [],
   "source": [
    "import pandas as pd\n",
    "\n",
    "lstm_probs_train = pd.read_csv('/kaggle/input/lstm-results/predicts_vs_real_TRAIN.csv', index_col=0)\n",
    "lstm_probs_test = pd.read_csv('/kaggle/input/lstm-results/predicts_vs_real_TEST.csv', index_col=0)\n",
    "lstm_columns = ['lstm_prob_0', 'lstm_prob_1', 'lstm_prob_2', 'lstm_prob_3', 'lstm_prob_4', 'lstm_prob_5', 'tag']"
   ]
  },
  {
   "cell_type": "code",
   "execution_count": 2,
   "id": "2a07232f",
   "metadata": {
    "execution": {
     "iopub.execute_input": "2023-06-13T17:04:25.213042Z",
     "iopub.status.busy": "2023-06-13T17:04:25.212581Z",
     "iopub.status.idle": "2023-06-13T17:04:25.994583Z",
     "shell.execute_reply": "2023-06-13T17:04:25.993707Z"
    },
    "papermill": {
     "duration": 0.790835,
     "end_time": "2023-06-13T17:04:25.997516",
     "exception": false,
     "start_time": "2023-06-13T17:04:25.206681",
     "status": "completed"
    },
    "tags": []
   },
   "outputs": [
    {
     "name": "stdout",
     "output_type": "stream",
     "text": [
      "Train checker: True\n",
      "Test checker: True\n"
     ]
    }
   ],
   "source": [
    "forest_probs_train = pd.read_csv('/kaggle/input/forest-results/predicts_vs_real_TRAIN.csv', index_col=0)\n",
    "print('Train checker:', all(forest_probs_train.tag.values == lstm_probs_train.tag.values))\n",
    "forest_probs_train.drop(columns = 'tag', inplace=True)\n",
    "\n",
    "forest_probs_test = pd.read_csv('/kaggle/input/forest-results/predicts_vs_real_TEST.csv', index_col=0)\n",
    "print('Test checker:', all(forest_probs_test.tag.values == lstm_probs_test.tag.values))\n",
    "forest_probs_test.drop(columns = 'tag', inplace=True)\n",
    "forest_columns = ['forest_prob_0', 'forest_prob_1', 'forest_prob_2', 'forest_prob_3', 'forest_prob_4', 'forest_prob_5']"
   ]
  },
  {
   "cell_type": "markdown",
   "id": "f08520cb",
   "metadata": {
    "papermill": {
     "duration": 0.004455,
     "end_time": "2023-06-13T17:04:26.007029",
     "exception": false,
     "start_time": "2023-06-13T17:04:26.002574",
     "status": "completed"
    },
    "tags": []
   },
   "source": [
    "# TO DO: CREAR DOS CONJUNTOS TRAIN Y TEST CON SUS X E Y"
   ]
  },
  {
   "cell_type": "code",
   "execution_count": 3,
   "id": "6d9efb51",
   "metadata": {
    "execution": {
     "iopub.execute_input": "2023-06-13T17:04:26.018275Z",
     "iopub.status.busy": "2023-06-13T17:04:26.017203Z",
     "iopub.status.idle": "2023-06-13T17:04:26.063889Z",
     "shell.execute_reply": "2023-06-13T17:04:26.062451Z"
    },
    "papermill": {
     "duration": 0.055738,
     "end_time": "2023-06-13T17:04:26.067414",
     "exception": false,
     "start_time": "2023-06-13T17:04:26.011676",
     "status": "completed"
    },
    "tags": []
   },
   "outputs": [],
   "source": [
    "lstm_probs_train.columns = lstm_probs_test.columns = lstm_columns\n",
    "forest_probs_train.columns = forest_probs_test.columns = forest_columns\n",
    "\n",
    "x_train = pd.concat([forest_probs_train, lstm_probs_train], axis=1)\n",
    "y_train = x_train.tag\n",
    "x_train.drop(columns='tag', inplace=True)\n",
    "\n",
    "x_test = pd.concat([forest_probs_test, lstm_probs_test], axis=1)\n",
    "y_test = x_test.tag\n",
    "x_test.drop(columns='tag', inplace=True)"
   ]
  },
  {
   "cell_type": "markdown",
   "id": "642213d0",
   "metadata": {
    "papermill": {
     "duration": 0.004296,
     "end_time": "2023-06-13T17:04:26.076556",
     "exception": false,
     "start_time": "2023-06-13T17:04:26.072260",
     "status": "completed"
    },
    "tags": []
   },
   "source": [
    "# TO DO: ENTRENAR UN MODELO DE REGRESION QUE HAGA DE ENSEMBLE ENTRE LOS DOS DE PARTIDA"
   ]
  },
  {
   "cell_type": "code",
   "execution_count": 4,
   "id": "1b607571",
   "metadata": {
    "execution": {
     "iopub.execute_input": "2023-06-13T17:04:26.086636Z",
     "iopub.status.busy": "2023-06-13T17:04:26.086273Z",
     "iopub.status.idle": "2023-06-13T17:18:29.672237Z",
     "shell.execute_reply": "2023-06-13T17:18:29.671035Z"
    },
    "papermill": {
     "duration": 843.597255,
     "end_time": "2023-06-13T17:18:29.678544",
     "exception": false,
     "start_time": "2023-06-13T17:04:26.081289",
     "status": "completed"
    },
    "tags": []
   },
   "outputs": [
    {
     "data": {
      "text/html": [
       "<div>\n",
       "<style scoped>\n",
       "    .dataframe tbody tr th:only-of-type {\n",
       "        vertical-align: middle;\n",
       "    }\n",
       "\n",
       "    .dataframe tbody tr th {\n",
       "        vertical-align: top;\n",
       "    }\n",
       "\n",
       "    .dataframe thead th {\n",
       "        text-align: right;\n",
       "    }\n",
       "</style>\n",
       "<table border=\"1\" class=\"dataframe\">\n",
       "  <thead>\n",
       "    <tr style=\"text-align: right;\">\n",
       "      <th></th>\n",
       "      <th>precision</th>\n",
       "      <th>recall</th>\n",
       "      <th>f1-score</th>\n",
       "      <th>support</th>\n",
       "    </tr>\n",
       "  </thead>\n",
       "  <tbody>\n",
       "    <tr>\n",
       "      <th>0</th>\n",
       "      <td>0.667758</td>\n",
       "      <td>0.807611</td>\n",
       "      <td>0.731056</td>\n",
       "      <td>14138.000000</td>\n",
       "    </tr>\n",
       "    <tr>\n",
       "      <th>1</th>\n",
       "      <td>0.784643</td>\n",
       "      <td>0.261933</td>\n",
       "      <td>0.392755</td>\n",
       "      <td>3394.000000</td>\n",
       "    </tr>\n",
       "    <tr>\n",
       "      <th>2</th>\n",
       "      <td>0.363017</td>\n",
       "      <td>0.335573</td>\n",
       "      <td>0.348756</td>\n",
       "      <td>11905.000000</td>\n",
       "    </tr>\n",
       "    <tr>\n",
       "      <th>3</th>\n",
       "      <td>0.749348</td>\n",
       "      <td>0.733638</td>\n",
       "      <td>0.741410</td>\n",
       "      <td>7441.000000</td>\n",
       "    </tr>\n",
       "    <tr>\n",
       "      <th>4</th>\n",
       "      <td>0.563621</td>\n",
       "      <td>0.611867</td>\n",
       "      <td>0.586754</td>\n",
       "      <td>10584.000000</td>\n",
       "    </tr>\n",
       "    <tr>\n",
       "      <th>5</th>\n",
       "      <td>0.647925</td>\n",
       "      <td>0.620475</td>\n",
       "      <td>0.633903</td>\n",
       "      <td>12982.000000</td>\n",
       "    </tr>\n",
       "    <tr>\n",
       "      <th>accuracy</th>\n",
       "      <td>0.600424</td>\n",
       "      <td>0.600424</td>\n",
       "      <td>0.600424</td>\n",
       "      <td>0.600424</td>\n",
       "    </tr>\n",
       "    <tr>\n",
       "      <th>macro avg</th>\n",
       "      <td>0.629385</td>\n",
       "      <td>0.561849</td>\n",
       "      <td>0.572439</td>\n",
       "      <td>60444.000000</td>\n",
       "    </tr>\n",
       "    <tr>\n",
       "      <th>weighted avg</th>\n",
       "      <td>0.601849</td>\n",
       "      <td>0.600424</td>\n",
       "      <td>0.591903</td>\n",
       "      <td>60444.000000</td>\n",
       "    </tr>\n",
       "  </tbody>\n",
       "</table>\n",
       "</div>"
      ],
      "text/plain": [
       "              precision    recall  f1-score       support\n",
       "0              0.667758  0.807611  0.731056  14138.000000\n",
       "1              0.784643  0.261933  0.392755   3394.000000\n",
       "2              0.363017  0.335573  0.348756  11905.000000\n",
       "3              0.749348  0.733638  0.741410   7441.000000\n",
       "4              0.563621  0.611867  0.586754  10584.000000\n",
       "5              0.647925  0.620475  0.633903  12982.000000\n",
       "accuracy       0.600424  0.600424  0.600424      0.600424\n",
       "macro avg      0.629385  0.561849  0.572439  60444.000000\n",
       "weighted avg   0.601849  0.600424  0.591903  60444.000000"
      ]
     },
     "execution_count": 4,
     "metadata": {},
     "output_type": "execute_result"
    }
   ],
   "source": [
    "import numpy as np\n",
    "from sklearn.linear_model import LogisticRegression\n",
    "from sklearn.model_selection import GridSearchCV\n",
    "from sklearn.metrics import classification_report\n",
    "\n",
    "lr_model = LogisticRegression(max_iter=5000)\n",
    "\n",
    "parameters = {}\n",
    "parameters['C'] = [10e-3, 10e-2, 10e-1, 1, 10, 100, 1000]\n",
    "parameters['class_weight'] = [None, 'balanced']\n",
    "\n",
    "GS = GridSearchCV(lr_model, parameters)\n",
    "GS.fit(x_train, y_train)\n",
    "\n",
    "lr_model = GS.best_estimator_\n",
    "\n",
    "pred_probs_test = lr_model.predict_proba(x_test)\n",
    "y_test_pred = np.argmax(pred_probs_test, axis=1)\n",
    "report = classification_report(y_test, y_test_pred, output_dict=True)\n",
    "pd.DataFrame(report).T"
   ]
  },
  {
   "cell_type": "markdown",
   "id": "3dbc39b3",
   "metadata": {
    "papermill": {
     "duration": 0.003426,
     "end_time": "2023-06-13T17:18:29.685653",
     "exception": false,
     "start_time": "2023-06-13T17:18:29.682227",
     "status": "completed"
    },
    "tags": []
   },
   "source": [
    "Mejoramos **~1%** con respecto a la media aritmetica de las predicciones"
   ]
  }
 ],
 "metadata": {
  "kernelspec": {
   "display_name": "Python 3",
   "language": "python",
   "name": "python3"
  },
  "language_info": {
   "codemirror_mode": {
    "name": "ipython",
    "version": 3
   },
   "file_extension": ".py",
   "mimetype": "text/x-python",
   "name": "python",
   "nbconvert_exporter": "python",
   "pygments_lexer": "ipython3",
   "version": "3.10.10"
  },
  "papermill": {
   "default_parameters": {},
   "duration": 858.481781,
   "end_time": "2023-06-13T17:18:30.715402",
   "environment_variables": {},
   "exception": null,
   "input_path": "__notebook__.ipynb",
   "output_path": "__notebook__.ipynb",
   "parameters": {},
   "start_time": "2023-06-13T17:04:12.233621",
   "version": "2.4.0"
  }
 },
 "nbformat": 4,
 "nbformat_minor": 5
}
