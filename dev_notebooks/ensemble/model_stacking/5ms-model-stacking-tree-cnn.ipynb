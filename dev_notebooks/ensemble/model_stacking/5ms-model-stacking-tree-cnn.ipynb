{
 "cells": [
  {
   "cell_type": "markdown",
   "id": "5f2b734e",
   "metadata": {
    "papermill": {
     "duration": 0.003861,
     "end_time": "2023-06-13T17:07:47.472926",
     "exception": false,
     "start_time": "2023-06-13T17:07:47.469065",
     "status": "completed"
    },
    "tags": []
   },
   "source": [
    "# TO DO: CARGAR LOS OUTPUTS DE LOS DOS MODELOS"
   ]
  },
  {
   "cell_type": "code",
   "execution_count": 1,
   "id": "180ca8a8",
   "metadata": {
    "execution": {
     "iopub.execute_input": "2023-06-13T17:07:47.481598Z",
     "iopub.status.busy": "2023-06-13T17:07:47.480762Z",
     "iopub.status.idle": "2023-06-13T17:07:48.274639Z",
     "shell.execute_reply": "2023-06-13T17:07:48.273493Z"
    },
    "papermill": {
     "duration": 0.80123,
     "end_time": "2023-06-13T17:07:48.277544",
     "exception": false,
     "start_time": "2023-06-13T17:07:47.476314",
     "status": "completed"
    },
    "tags": []
   },
   "outputs": [],
   "source": [
    "import pandas as pd\n",
    "\n",
    "cnn_probs_train = pd.read_csv('/kaggle/input/cnn-results/predicts_vs_real_TRAIN.csv', index_col=0)\n",
    "cnn_probs_test = pd.read_csv('/kaggle/input/cnn-results/predicts_vs_real_TEST.csv', index_col=0)\n",
    "cnn_columns = ['cnn_prob_0', 'cnn_prob_1', 'cnn_prob_2', 'cnn_prob_3', 'cnn_prob_4', 'cnn_prob_5', 'tag']"
   ]
  },
  {
   "cell_type": "code",
   "execution_count": 2,
   "id": "e23e5450",
   "metadata": {
    "execution": {
     "iopub.execute_input": "2023-06-13T17:07:48.285583Z",
     "iopub.status.busy": "2023-06-13T17:07:48.285207Z",
     "iopub.status.idle": "2023-06-13T17:07:49.147746Z",
     "shell.execute_reply": "2023-06-13T17:07:49.146133Z"
    },
    "papermill": {
     "duration": 0.869965,
     "end_time": "2023-06-13T17:07:49.150923",
     "exception": false,
     "start_time": "2023-06-13T17:07:48.280958",
     "status": "completed"
    },
    "tags": []
   },
   "outputs": [
    {
     "name": "stdout",
     "output_type": "stream",
     "text": [
      "Train checker: True\n",
      "Test checker: True\n"
     ]
    }
   ],
   "source": [
    "tree_probs_train = pd.read_csv('/kaggle/input/tree-results/predicts_vs_real_TRAIN.csv', index_col=0)\n",
    "print('Train checker:', all(tree_probs_train.tag.values == cnn_probs_train.tag.values))\n",
    "tree_probs_train.drop(columns = 'tag', inplace=True)\n",
    "\n",
    "tree_probs_test = pd.read_csv('/kaggle/input/tree-results/predicts_vs_real_TEST.csv', index_col=0)\n",
    "print('Test checker:', all(tree_probs_test.tag.values == cnn_probs_test.tag.values))\n",
    "tree_probs_test.drop(columns = 'tag', inplace=True)\n",
    "tree_columns = ['tree_prob_0', 'tree_prob_1', 'tree_prob_2', 'tree_prob_3', 'tree_prob_4', 'tree_prob_5']"
   ]
  },
  {
   "cell_type": "markdown",
   "id": "bcdae3af",
   "metadata": {
    "papermill": {
     "duration": 0.002921,
     "end_time": "2023-06-13T17:07:49.157350",
     "exception": false,
     "start_time": "2023-06-13T17:07:49.154429",
     "status": "completed"
    },
    "tags": []
   },
   "source": [
    "# TO DO: CREAR DOS CONJUNTOS TRAIN Y TEST CON SUS X E Y"
   ]
  },
  {
   "cell_type": "code",
   "execution_count": 3,
   "id": "257850f2",
   "metadata": {
    "execution": {
     "iopub.execute_input": "2023-06-13T17:07:49.165709Z",
     "iopub.status.busy": "2023-06-13T17:07:49.164899Z",
     "iopub.status.idle": "2023-06-13T17:07:49.205768Z",
     "shell.execute_reply": "2023-06-13T17:07:49.204749Z"
    },
    "papermill": {
     "duration": 0.047964,
     "end_time": "2023-06-13T17:07:49.208530",
     "exception": false,
     "start_time": "2023-06-13T17:07:49.160566",
     "status": "completed"
    },
    "tags": []
   },
   "outputs": [],
   "source": [
    "cnn_probs_train.columns = cnn_probs_test.columns = cnn_columns\n",
    "tree_probs_train.columns = tree_probs_test.columns = tree_columns\n",
    "\n",
    "x_train = pd.concat([tree_probs_train, cnn_probs_train], axis=1)\n",
    "y_train = x_train.tag\n",
    "x_train.drop(columns='tag', inplace=True)\n",
    "\n",
    "x_test = pd.concat([tree_probs_test, cnn_probs_test], axis=1)\n",
    "y_test = x_test.tag\n",
    "x_test.drop(columns='tag', inplace=True)"
   ]
  },
  {
   "cell_type": "markdown",
   "id": "f85422b6",
   "metadata": {
    "papermill": {
     "duration": 0.00295,
     "end_time": "2023-06-13T17:07:49.214757",
     "exception": false,
     "start_time": "2023-06-13T17:07:49.211807",
     "status": "completed"
    },
    "tags": []
   },
   "source": [
    "# TO DO: ENTRENAR UN MODELO DE REGRESION QUE HAGA DE ENSEMBLE ENTRE LOS DOS DE PARTIDA"
   ]
  },
  {
   "cell_type": "code",
   "execution_count": 4,
   "id": "58c82915",
   "metadata": {
    "execution": {
     "iopub.execute_input": "2023-06-13T17:07:49.222357Z",
     "iopub.status.busy": "2023-06-13T17:07:49.222007Z",
     "iopub.status.idle": "2023-06-13T17:33:11.530005Z",
     "shell.execute_reply": "2023-06-13T17:33:11.529234Z"
    },
    "papermill": {
     "duration": 1522.31772,
     "end_time": "2023-06-13T17:33:11.535521",
     "exception": false,
     "start_time": "2023-06-13T17:07:49.217801",
     "status": "completed"
    },
    "tags": []
   },
   "outputs": [
    {
     "data": {
      "text/html": [
       "<div>\n",
       "<style scoped>\n",
       "    .dataframe tbody tr th:only-of-type {\n",
       "        vertical-align: middle;\n",
       "    }\n",
       "\n",
       "    .dataframe tbody tr th {\n",
       "        vertical-align: top;\n",
       "    }\n",
       "\n",
       "    .dataframe thead th {\n",
       "        text-align: right;\n",
       "    }\n",
       "</style>\n",
       "<table border=\"1\" class=\"dataframe\">\n",
       "  <thead>\n",
       "    <tr style=\"text-align: right;\">\n",
       "      <th></th>\n",
       "      <th>precision</th>\n",
       "      <th>recall</th>\n",
       "      <th>f1-score</th>\n",
       "      <th>support</th>\n",
       "    </tr>\n",
       "  </thead>\n",
       "  <tbody>\n",
       "    <tr>\n",
       "      <th>0</th>\n",
       "      <td>0.651723</td>\n",
       "      <td>0.795869</td>\n",
       "      <td>0.716619</td>\n",
       "      <td>14138.00000</td>\n",
       "    </tr>\n",
       "    <tr>\n",
       "      <th>1</th>\n",
       "      <td>0.820488</td>\n",
       "      <td>0.247790</td>\n",
       "      <td>0.380629</td>\n",
       "      <td>3394.00000</td>\n",
       "    </tr>\n",
       "    <tr>\n",
       "      <th>2</th>\n",
       "      <td>0.355004</td>\n",
       "      <td>0.285762</td>\n",
       "      <td>0.316642</td>\n",
       "      <td>11905.00000</td>\n",
       "    </tr>\n",
       "    <tr>\n",
       "      <th>3</th>\n",
       "      <td>0.749964</td>\n",
       "      <td>0.702997</td>\n",
       "      <td>0.725721</td>\n",
       "      <td>7441.00000</td>\n",
       "    </tr>\n",
       "    <tr>\n",
       "      <th>4</th>\n",
       "      <td>0.538423</td>\n",
       "      <td>0.607710</td>\n",
       "      <td>0.570972</td>\n",
       "      <td>10584.00000</td>\n",
       "    </tr>\n",
       "    <tr>\n",
       "      <th>5</th>\n",
       "      <td>0.601612</td>\n",
       "      <td>0.632568</td>\n",
       "      <td>0.616702</td>\n",
       "      <td>12982.00000</td>\n",
       "    </tr>\n",
       "    <tr>\n",
       "      <th>accuracy</th>\n",
       "      <td>0.585170</td>\n",
       "      <td>0.585170</td>\n",
       "      <td>0.585170</td>\n",
       "      <td>0.58517</td>\n",
       "    </tr>\n",
       "    <tr>\n",
       "      <th>macro avg</th>\n",
       "      <td>0.619536</td>\n",
       "      <td>0.545449</td>\n",
       "      <td>0.554548</td>\n",
       "      <td>60444.00000</td>\n",
       "    </tr>\n",
       "    <tr>\n",
       "      <th>weighted avg</th>\n",
       "      <td>0.584250</td>\n",
       "      <td>0.585170</td>\n",
       "      <td>0.573131</td>\n",
       "      <td>60444.00000</td>\n",
       "    </tr>\n",
       "  </tbody>\n",
       "</table>\n",
       "</div>"
      ],
      "text/plain": [
       "              precision    recall  f1-score      support\n",
       "0              0.651723  0.795869  0.716619  14138.00000\n",
       "1              0.820488  0.247790  0.380629   3394.00000\n",
       "2              0.355004  0.285762  0.316642  11905.00000\n",
       "3              0.749964  0.702997  0.725721   7441.00000\n",
       "4              0.538423  0.607710  0.570972  10584.00000\n",
       "5              0.601612  0.632568  0.616702  12982.00000\n",
       "accuracy       0.585170  0.585170  0.585170      0.58517\n",
       "macro avg      0.619536  0.545449  0.554548  60444.00000\n",
       "weighted avg   0.584250  0.585170  0.573131  60444.00000"
      ]
     },
     "execution_count": 4,
     "metadata": {},
     "output_type": "execute_result"
    }
   ],
   "source": [
    "import numpy as np\n",
    "from sklearn.linear_model import LogisticRegression\n",
    "from sklearn.model_selection import GridSearchCV\n",
    "from sklearn.metrics import classification_report\n",
    "\n",
    "lr_model = LogisticRegression(max_iter=5000)\n",
    "\n",
    "parameters = {}\n",
    "parameters['C'] = [10e-3, 10e-2, 10e-1, 1, 10, 100, 1000]\n",
    "parameters['class_weight'] = [None, 'balanced']\n",
    "\n",
    "GS = GridSearchCV(lr_model, parameters)\n",
    "GS.fit(x_train, y_train)\n",
    "\n",
    "lr_model = GS.best_estimator_\n",
    "\n",
    "pred_probs_test = lr_model.predict_proba(x_test)\n",
    "y_test_pred = np.argmax(pred_probs_test, axis=1)\n",
    "report = classification_report(y_test, y_test_pred, output_dict=True)\n",
    "pd.DataFrame(report).T"
   ]
  },
  {
   "cell_type": "markdown",
   "id": "a58c384b",
   "metadata": {
    "papermill": {
     "duration": 0.003228,
     "end_time": "2023-06-13T17:33:11.542201",
     "exception": false,
     "start_time": "2023-06-13T17:33:11.538973",
     "status": "completed"
    },
    "tags": []
   },
   "source": [
    "Mejoramos **~1%** con respecto a la media aritmetica de las predicciones"
   ]
  }
 ],
 "metadata": {
  "kernelspec": {
   "display_name": "Python 3",
   "language": "python",
   "name": "python3"
  },
  "language_info": {
   "codemirror_mode": {
    "name": "ipython",
    "version": 3
   },
   "file_extension": ".py",
   "mimetype": "text/x-python",
   "name": "python",
   "nbconvert_exporter": "python",
   "pygments_lexer": "ipython3",
   "version": "3.10.10"
  },
  "papermill": {
   "default_parameters": {},
   "duration": 1536.424361,
   "end_time": "2023-06-13T17:33:12.572430",
   "environment_variables": {},
   "exception": null,
   "input_path": "__notebook__.ipynb",
   "output_path": "__notebook__.ipynb",
   "parameters": {},
   "start_time": "2023-06-13T17:07:36.148069",
   "version": "2.4.0"
  }
 },
 "nbformat": 4,
 "nbformat_minor": 5
}
