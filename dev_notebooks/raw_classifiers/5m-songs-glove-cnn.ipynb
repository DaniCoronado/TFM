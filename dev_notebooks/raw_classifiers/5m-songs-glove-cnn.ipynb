{
 "cells": [
  {
   "cell_type": "code",
   "execution_count": 1,
   "id": "1bd6c5b0",
   "metadata": {
    "execution": {
     "iopub.execute_input": "2023-05-23T16:23:21.573871Z",
     "iopub.status.busy": "2023-05-23T16:23:21.572745Z",
     "iopub.status.idle": "2023-05-23T16:23:38.091051Z",
     "shell.execute_reply": "2023-05-23T16:23:38.089470Z"
    },
    "papermill": {
     "duration": 16.537477,
     "end_time": "2023-05-23T16:23:38.095077",
     "exception": false,
     "start_time": "2023-05-23T16:23:21.557600",
     "status": "completed"
    },
    "tags": []
   },
   "outputs": [],
   "source": [
    "import pandas as pd\n",
    "\n",
    "df_audio_features = pd.read_csv('/kaggle/input/5ms-upgrade/5MS_audio_features.csv', index_col=0)\n",
    "df_5MS = pd.read_csv('/kaggle/input/5ms-upgrade/final_5MS.csv', index_col=0)"
   ]
  },
  {
   "cell_type": "code",
   "execution_count": 2,
   "id": "59695258",
   "metadata": {
    "execution": {
     "iopub.execute_input": "2023-05-23T16:23:38.122319Z",
     "iopub.status.busy": "2023-05-23T16:23:38.121790Z",
     "iopub.status.idle": "2023-05-23T16:23:39.423429Z",
     "shell.execute_reply": "2023-05-23T16:23:39.421540Z"
    },
    "papermill": {
     "duration": 1.321006,
     "end_time": "2023-05-23T16:23:39.428474",
     "exception": false,
     "start_time": "2023-05-23T16:23:38.107468",
     "status": "completed"
    },
    "tags": []
   },
   "outputs": [
    {
     "data": {
      "text/html": [
       "<div>\n",
       "<style scoped>\n",
       "    .dataframe tbody tr th:only-of-type {\n",
       "        vertical-align: middle;\n",
       "    }\n",
       "\n",
       "    .dataframe tbody tr th {\n",
       "        vertical-align: top;\n",
       "    }\n",
       "\n",
       "    .dataframe thead th {\n",
       "        text-align: right;\n",
       "    }\n",
       "</style>\n",
       "<table border=\"1\" class=\"dataframe\">\n",
       "  <thead>\n",
       "    <tr style=\"text-align: right;\">\n",
       "      <th></th>\n",
       "      <th>lyrics</th>\n",
       "      <th>tag</th>\n",
       "      <th>id</th>\n",
       "    </tr>\n",
       "  </thead>\n",
       "  <tbody>\n",
       "    <tr>\n",
       "      <th>0</th>\n",
       "      <td>[Produced by Infamous and Drew Correa]\\n\\n[Int...</td>\n",
       "      <td>rap</td>\n",
       "      <td>2tQM1BUrXp2kqOM6mN11TC</td>\n",
       "    </tr>\n",
       "    <tr>\n",
       "      <th>1</th>\n",
       "      <td>[Hook]\\nThey wan' do whatever I wan' do\\nI got...</td>\n",
       "      <td>rap</td>\n",
       "      <td>04kvMnJ6zo72bSnZDWyE7m</td>\n",
       "    </tr>\n",
       "    <tr>\n",
       "      <th>2</th>\n",
       "      <td>[Intro: The Notorious B.I.G.]\\n(\"Fuck all you ...</td>\n",
       "      <td>rap</td>\n",
       "      <td>5ByAIlEEnxYdvpnezg7HTX</td>\n",
       "    </tr>\n",
       "    <tr>\n",
       "      <th>3</th>\n",
       "      <td>[Chuck D]\\n1, 2, 3, 4, 5, 6, 7, 8, 9\\n\\n[Intro...</td>\n",
       "      <td>rap</td>\n",
       "      <td>1Z7C8ClE8UEaH70jCCeJH2</td>\n",
       "    </tr>\n",
       "    <tr>\n",
       "      <th>4</th>\n",
       "      <td>[Intro: JAY-Z]\\nWhat?\\nWell fuck you... bitch\\...</td>\n",
       "      <td>rap</td>\n",
       "      <td>4LGMSdeKOUoy5Wf75Je0Hl</td>\n",
       "    </tr>\n",
       "    <tr>\n",
       "      <th>...</th>\n",
       "      <td>...</td>\n",
       "      <td>...</td>\n",
       "      <td>...</td>\n",
       "    </tr>\n",
       "    <tr>\n",
       "      <th>302213</th>\n",
       "      <td>[Instrumental]</td>\n",
       "      <td>rb</td>\n",
       "      <td>29EAgZQVXMQwm2O81MffjV</td>\n",
       "    </tr>\n",
       "    <tr>\n",
       "      <th>302214</th>\n",
       "      <td>[Verse 1: Julia Cole, Cooper Alan]\\nHate hangi...</td>\n",
       "      <td>country</td>\n",
       "      <td>46XuJOFMgB1biZv3rztHpT</td>\n",
       "    </tr>\n",
       "    <tr>\n",
       "      <th>302215</th>\n",
       "      <td>[Instrumental]</td>\n",
       "      <td>rb</td>\n",
       "      <td>6yItLFQtv1NVafUWSkmE2S</td>\n",
       "    </tr>\n",
       "    <tr>\n",
       "      <th>302216</th>\n",
       "      <td>[Verse 1]\\nHalf truth and half you\\nDidn't we ...</td>\n",
       "      <td>pop</td>\n",
       "      <td>2bVh1aGyCWxKkZvEn61xZ1</td>\n",
       "    </tr>\n",
       "    <tr>\n",
       "      <th>302217</th>\n",
       "      <td>[Verse 1]\\nYou need a new number, one that ain...</td>\n",
       "      <td>country</td>\n",
       "      <td>6xboopPn3bSJ93xZ9N6BZM</td>\n",
       "    </tr>\n",
       "  </tbody>\n",
       "</table>\n",
       "<p>302218 rows × 3 columns</p>\n",
       "</div>"
      ],
      "text/plain": [
       "                                                   lyrics      tag  \\\n",
       "0       [Produced by Infamous and Drew Correa]\\n\\n[Int...      rap   \n",
       "1       [Hook]\\nThey wan' do whatever I wan' do\\nI got...      rap   \n",
       "2       [Intro: The Notorious B.I.G.]\\n(\"Fuck all you ...      rap   \n",
       "3       [Chuck D]\\n1, 2, 3, 4, 5, 6, 7, 8, 9\\n\\n[Intro...      rap   \n",
       "4       [Intro: JAY-Z]\\nWhat?\\nWell fuck you... bitch\\...      rap   \n",
       "...                                                   ...      ...   \n",
       "302213                                     [Instrumental]       rb   \n",
       "302214  [Verse 1: Julia Cole, Cooper Alan]\\nHate hangi...  country   \n",
       "302215                                     [Instrumental]       rb   \n",
       "302216  [Verse 1]\\nHalf truth and half you\\nDidn't we ...      pop   \n",
       "302217  [Verse 1]\\nYou need a new number, one that ain...  country   \n",
       "\n",
       "                            id  \n",
       "0       2tQM1BUrXp2kqOM6mN11TC  \n",
       "1       04kvMnJ6zo72bSnZDWyE7m  \n",
       "2       5ByAIlEEnxYdvpnezg7HTX  \n",
       "3       1Z7C8ClE8UEaH70jCCeJH2  \n",
       "4       4LGMSdeKOUoy5Wf75Je0Hl  \n",
       "...                        ...  \n",
       "302213  29EAgZQVXMQwm2O81MffjV  \n",
       "302214  46XuJOFMgB1biZv3rztHpT  \n",
       "302215  6yItLFQtv1NVafUWSkmE2S  \n",
       "302216  2bVh1aGyCWxKkZvEn61xZ1  \n",
       "302217  6xboopPn3bSJ93xZ9N6BZM  \n",
       "\n",
       "[302218 rows x 3 columns]"
      ]
     },
     "execution_count": 2,
     "metadata": {},
     "output_type": "execute_result"
    }
   ],
   "source": [
    "df_lyrics = df_audio_features.merge(df_5MS, how='right', right_on='id', left_on='id')[['lyrics', 'tag', 'id']]\n",
    "df_lyrics"
   ]
  },
  {
   "cell_type": "code",
   "execution_count": 3,
   "id": "bf3ed66a",
   "metadata": {
    "execution": {
     "iopub.execute_input": "2023-05-23T16:23:39.464957Z",
     "iopub.status.busy": "2023-05-23T16:23:39.463592Z",
     "iopub.status.idle": "2023-05-23T16:23:41.586796Z",
     "shell.execute_reply": "2023-05-23T16:23:41.585331Z"
    },
    "papermill": {
     "duration": 2.144909,
     "end_time": "2023-05-23T16:23:41.590512",
     "exception": false,
     "start_time": "2023-05-23T16:23:39.445603",
     "status": "completed"
    },
    "tags": []
   },
   "outputs": [
    {
     "data": {
      "image/png": "[encoded data removed]",
      "text/plain": [
       "<Figure size 720x360 with 1 Axes>"
      ]
     },
     "metadata": {
      "needs_background": "light"
     },
     "output_type": "display_data"
    }
   ],
   "source": [
    "import matplotlib.pyplot as plt\n",
    "import seaborn as sns\n",
    "\n",
    "plt.figure(figsize=(10,5))\n",
    "sns.countplot(x='tag', data=df_lyrics)\n",
    "\n",
    "plt.title('Song Count by Genre')\n",
    "plt.ylabel('Number of Songs', fontsize=12)\n",
    "plt.xlabel('Genre', fontsize=12)\n",
    "plt.show()"
   ]
  },
  {
   "cell_type": "markdown",
   "id": "9c765b17",
   "metadata": {
    "papermill": {
     "duration": 0.011694,
     "end_time": "2023-05-23T16:23:41.614643",
     "exception": false,
     "start_time": "2023-05-23T16:23:41.602949",
     "status": "completed"
    },
    "tags": []
   },
   "source": [
    "# TO DO: BALANCEAR LA BD\n",
    "\n",
    "1.     IGUALAR LOS REGISTROS DE CADA CLASE"
   ]
  },
  {
   "cell_type": "code",
   "execution_count": 4,
   "id": "467b43bb",
   "metadata": {
    "execution": {
     "iopub.execute_input": "2023-05-23T16:23:41.643361Z",
     "iopub.status.busy": "2023-05-23T16:23:41.642725Z",
     "iopub.status.idle": "2023-05-23T16:23:41.649706Z",
     "shell.execute_reply": "2023-05-23T16:23:41.648283Z"
    },
    "papermill": {
     "duration": 0.024776,
     "end_time": "2023-05-23T16:23:41.652701",
     "exception": false,
     "start_time": "2023-05-23T16:23:41.627925",
     "status": "completed"
    },
    "tags": []
   },
   "outputs": [],
   "source": [
    "# grouped_lyrics = df_lyrics.groupby('tag')\n",
    "# df_balanced = grouped_5MS.apply(lambda x: x.sample(grouped_5MS.size().min())).reset_index(drop=True)\n",
    "\n",
    "# plt.figure(figsize=(10,5))\n",
    "# sns.countplot(x='tag', data=df_balanced)\n",
    "\n",
    "# plt.title('Song Count by Genre')\n",
    "# plt.ylabel('Number of Songs', fontsize=12)\n",
    "# plt.xlabel('Genre', fontsize=12)\n",
    "# plt.show()"
   ]
  },
  {
   "cell_type": "markdown",
   "id": "22430535",
   "metadata": {
    "papermill": {
     "duration": 0.012947,
     "end_time": "2023-05-23T16:23:41.680932",
     "exception": false,
     "start_time": "2023-05-23T16:23:41.667985",
     "status": "completed"
    },
    "tags": []
   },
   "source": [
    "# TO DO: PRE-NLP\n",
    "1. DEFINIR FUNCIONES PARA LIMPIAR LA LYRICS\n",
    "2. CODEAR LA CLASE"
   ]
  },
  {
   "cell_type": "code",
   "execution_count": 5,
   "id": "ec5604d9",
   "metadata": {
    "execution": {
     "iopub.execute_input": "2023-05-23T16:23:41.710456Z",
     "iopub.status.busy": "2023-05-23T16:23:41.709830Z",
     "iopub.status.idle": "2023-05-23T16:23:42.722483Z",
     "shell.execute_reply": "2023-05-23T16:23:42.720762Z"
    },
    "papermill": {
     "duration": 1.030782,
     "end_time": "2023-05-23T16:23:42.725990",
     "exception": false,
     "start_time": "2023-05-23T16:23:41.695208",
     "status": "completed"
    },
    "tags": []
   },
   "outputs": [],
   "source": [
    "import re\n",
    "import string\n",
    "from nltk.corpus import stopwords\n",
    "\n",
    "stop_words = stopwords.words('english')\n",
    "translator = str.maketrans(\"\", \"\", string.punctuation)\n",
    "\n",
    "def clear_annotations(lyrics):\n",
    "    return re.sub(r'\\[.*\\]|\\(|\\)|\\{|\\}', '', lyrics)\n",
    "\n",
    "def remove_punct(lyrics):\n",
    "    return lyrics.translate(translator)\n",
    "\n",
    "def remove_stopwords(lyrics):\n",
    "    filtered_words = [w.lower() for w in lyrics.split() if w.lower() not in stop_words]\n",
    "    return \" \".join(filtered_words)"
   ]
  },
  {
   "cell_type": "code",
   "execution_count": 6,
   "id": "3702cd51",
   "metadata": {
    "execution": {
     "iopub.execute_input": "2023-05-23T16:23:42.753702Z",
     "iopub.status.busy": "2023-05-23T16:23:42.752669Z",
     "iopub.status.idle": "2023-05-23T16:27:43.872644Z",
     "shell.execute_reply": "2023-05-23T16:27:43.871022Z"
    },
    "papermill": {
     "duration": 241.137281,
     "end_time": "2023-05-23T16:27:43.876115",
     "exception": false,
     "start_time": "2023-05-23T16:23:42.738834",
     "status": "completed"
    },
    "tags": []
   },
   "outputs": [],
   "source": [
    "df_lyrics[\"lyrics\"] = df_lyrics.lyrics.map(clear_annotations).map(remove_punct).map(remove_stopwords)"
   ]
  },
  {
   "cell_type": "code",
   "execution_count": 7,
   "id": "2102273f",
   "metadata": {
    "execution": {
     "iopub.execute_input": "2023-05-23T16:27:43.903329Z",
     "iopub.status.busy": "2023-05-23T16:27:43.902791Z",
     "iopub.status.idle": "2023-05-23T16:27:44.056921Z",
     "shell.execute_reply": "2023-05-23T16:27:44.055375Z"
    },
    "papermill": {
     "duration": 0.171993,
     "end_time": "2023-05-23T16:27:44.060773",
     "exception": false,
     "start_time": "2023-05-23T16:27:43.888780",
     "status": "completed"
    },
    "tags": []
   },
   "outputs": [],
   "source": [
    "from sklearn import preprocessing\n",
    "label_encoder = preprocessing.LabelEncoder()\n",
    "\n",
    "df_lyrics['tag']= label_encoder.fit_transform(df_lyrics['tag'])"
   ]
  },
  {
   "cell_type": "markdown",
   "id": "5b694065",
   "metadata": {
    "papermill": {
     "duration": 0.011784,
     "end_time": "2023-05-23T16:27:44.085155",
     "exception": false,
     "start_time": "2023-05-23T16:27:44.073371",
     "status": "completed"
    },
    "tags": []
   },
   "source": [
    "2. CREAR UN DICCIONARIO/CONTADOR CON TODAS LAS LYRICS"
   ]
  },
  {
   "cell_type": "code",
   "execution_count": 8,
   "id": "28f9dafe",
   "metadata": {
    "execution": {
     "iopub.execute_input": "2023-05-23T16:27:44.113279Z",
     "iopub.status.busy": "2023-05-23T16:27:44.112755Z",
     "iopub.status.idle": "2023-05-23T16:27:44.120816Z",
     "shell.execute_reply": "2023-05-23T16:27:44.119129Z"
    },
    "papermill": {
     "duration": 0.026128,
     "end_time": "2023-05-23T16:27:44.123950",
     "exception": false,
     "start_time": "2023-05-23T16:27:44.097822",
     "status": "completed"
    },
    "tags": []
   },
   "outputs": [],
   "source": [
    "from collections import Counter\n",
    "\n",
    "def counter_word(lyrics_col):\n",
    "    count = Counter()\n",
    "    for lyrics in lyrics_col.values:\n",
    "        for w in lyrics.split(): count[w] += 1\n",
    "    return count"
   ]
  },
  {
   "cell_type": "code",
   "execution_count": 9,
   "id": "4452be93",
   "metadata": {
    "execution": {
     "iopub.execute_input": "2023-05-23T16:27:44.150397Z",
     "iopub.status.busy": "2023-05-23T16:27:44.149883Z",
     "iopub.status.idle": "2023-05-23T16:28:06.916895Z",
     "shell.execute_reply": "2023-05-23T16:28:06.915452Z"
    },
    "papermill": {
     "duration": 22.78383,
     "end_time": "2023-05-23T16:28:06.919915",
     "exception": false,
     "start_time": "2023-05-23T16:27:44.136085",
     "status": "completed"
    },
    "tags": []
   },
   "outputs": [
    {
     "data": {
      "text/plain": [
       "[('im', 563534),\n",
       " ('like', 448744),\n",
       " ('know', 431724),\n",
       " ('dont', 396970),\n",
       " ('love', 376315)]"
      ]
     },
     "execution_count": 9,
     "metadata": {},
     "output_type": "execute_result"
    }
   ],
   "source": [
    "counter = counter_word(df_lyrics.lyrics)\n",
    "counter.most_common(5)"
   ]
  },
  {
   "cell_type": "code",
   "execution_count": 10,
   "id": "b0b4d726",
   "metadata": {
    "execution": {
     "iopub.execute_input": "2023-05-23T16:28:06.947048Z",
     "iopub.status.busy": "2023-05-23T16:28:06.946527Z",
     "iopub.status.idle": "2023-05-23T16:28:06.953370Z",
     "shell.execute_reply": "2023-05-23T16:28:06.951744Z"
    },
    "papermill": {
     "duration": 0.023998,
     "end_time": "2023-05-23T16:28:06.956649",
     "exception": false,
     "start_time": "2023-05-23T16:28:06.932651",
     "status": "completed"
    },
    "tags": []
   },
   "outputs": [],
   "source": [
    "num_unique_words = len(counter)"
   ]
  },
  {
   "cell_type": "markdown",
   "id": "f61e5e6b",
   "metadata": {
    "papermill": {
     "duration": 0.011822,
     "end_time": "2023-05-23T16:28:06.982006",
     "exception": false,
     "start_time": "2023-05-23T16:28:06.970184",
     "status": "completed"
    },
    "tags": []
   },
   "source": [
    "# TO DO: TOKENIZER\n",
    "1. CODEAR LAS LYRICS\n",
    "2. AÑADIR PADDING PARA LYRICS DE DISTINTOS TAMAÑOS"
   ]
  },
  {
   "cell_type": "code",
   "execution_count": 11,
   "id": "03edb3f9",
   "metadata": {
    "execution": {
     "iopub.execute_input": "2023-05-23T16:28:07.008443Z",
     "iopub.status.busy": "2023-05-23T16:28:07.007886Z",
     "iopub.status.idle": "2023-05-23T16:29:17.776673Z",
     "shell.execute_reply": "2023-05-23T16:29:17.775269Z"
    },
    "papermill": {
     "duration": 70.786126,
     "end_time": "2023-05-23T16:29:17.780099",
     "exception": false,
     "start_time": "2023-05-23T16:28:06.993973",
     "status": "completed"
    },
    "tags": []
   },
   "outputs": [],
   "source": [
    "from tensorflow.keras.preprocessing.text import Tokenizer\n",
    "\n",
    "tokenizer = Tokenizer(num_words=num_unique_words)\n",
    "tokenizer.fit_on_texts(df_lyrics.lyrics)"
   ]
  },
  {
   "cell_type": "code",
   "execution_count": 12,
   "id": "8729a4c1",
   "metadata": {
    "execution": {
     "iopub.execute_input": "2023-05-23T16:29:17.807884Z",
     "iopub.status.busy": "2023-05-23T16:29:17.806932Z",
     "iopub.status.idle": "2023-05-23T16:29:17.813209Z",
     "shell.execute_reply": "2023-05-23T16:29:17.811978Z"
    },
    "papermill": {
     "duration": 0.023162,
     "end_time": "2023-05-23T16:29:17.816237",
     "exception": false,
     "start_time": "2023-05-23T16:29:17.793075",
     "status": "completed"
    },
    "tags": []
   },
   "outputs": [],
   "source": [
    "words_to_index = tokenizer.word_index"
   ]
  },
  {
   "cell_type": "code",
   "execution_count": 13,
   "id": "5d9702ba",
   "metadata": {
    "execution": {
     "iopub.execute_input": "2023-05-23T16:29:17.843487Z",
     "iopub.status.busy": "2023-05-23T16:29:17.842966Z",
     "iopub.status.idle": "2023-05-23T16:29:17.848781Z",
     "shell.execute_reply": "2023-05-23T16:29:17.847465Z"
    },
    "papermill": {
     "duration": 0.022832,
     "end_time": "2023-05-23T16:29:17.851624",
     "exception": false,
     "start_time": "2023-05-23T16:29:17.828792",
     "status": "completed"
    },
    "tags": []
   },
   "outputs": [],
   "source": [
    "# train_sequences = tokenizer.texts_to_sequences(x_train)\n",
    "# val_sequences = tokenizer.texts_to_sequences(x_val)\n",
    "# test_sequences = tokenizer.texts_to_sequences(x_test)"
   ]
  },
  {
   "cell_type": "code",
   "execution_count": 14,
   "id": "d3fa4c07",
   "metadata": {
    "execution": {
     "iopub.execute_input": "2023-05-23T16:29:17.878797Z",
     "iopub.status.busy": "2023-05-23T16:29:17.878278Z",
     "iopub.status.idle": "2023-05-23T16:29:17.883881Z",
     "shell.execute_reply": "2023-05-23T16:29:17.882645Z"
    },
    "papermill": {
     "duration": 0.022634,
     "end_time": "2023-05-23T16:29:17.886575",
     "exception": false,
     "start_time": "2023-05-23T16:29:17.863941",
     "status": "completed"
    },
    "tags": []
   },
   "outputs": [],
   "source": [
    "# from tensorflow.keras.preprocessing.sequence import pad_sequences\n",
    "\n",
    "# max_length = 200\n",
    "\n",
    "# train_padded = pad_sequences(train_sequences, maxlen=max_length, padding=\"post\", truncating=\"post\")\n",
    "# val_padded = pad_sequences(val_sequences, maxlen=max_length, padding=\"post\", truncating=\"post\")\n",
    "# test_padded = pad_sequences(test_sequences, maxlen=max_length, padding=\"post\", truncating=\"post\")"
   ]
  },
  {
   "cell_type": "code",
   "execution_count": 15,
   "id": "1bc42e6b",
   "metadata": {
    "execution": {
     "iopub.execute_input": "2023-05-23T16:29:17.913210Z",
     "iopub.status.busy": "2023-05-23T16:29:17.912749Z",
     "iopub.status.idle": "2023-05-23T16:29:17.920623Z",
     "shell.execute_reply": "2023-05-23T16:29:17.919241Z"
    },
    "papermill": {
     "duration": 0.024193,
     "end_time": "2023-05-23T16:29:17.923056",
     "exception": false,
     "start_time": "2023-05-23T16:29:17.898863",
     "status": "completed"
    },
    "tags": []
   },
   "outputs": [],
   "source": [
    "import tensorflow as tf\n",
    "auto = tf.data.AUTOTUNE\n",
    "batch_size = 128\n",
    "\n",
    "def make_datasets(lyrics, labels, is_train=False):\n",
    "    dataset = tf.data.Dataset.from_tensor_slices((lyrics, labels))\n",
    "    if is_train:\n",
    "        dataset = dataset.shuffle(batch_size * 10)\n",
    "    dataset = dataset.batch(batch_size)\n",
    "    return dataset.prefetch(auto)"
   ]
  },
  {
   "cell_type": "code",
   "execution_count": 16,
   "id": "dd34381c",
   "metadata": {
    "execution": {
     "iopub.execute_input": "2023-05-23T16:29:17.949880Z",
     "iopub.status.busy": "2023-05-23T16:29:17.948993Z",
     "iopub.status.idle": "2023-05-23T16:29:17.953648Z",
     "shell.execute_reply": "2023-05-23T16:29:17.952578Z"
    },
    "papermill": {
     "duration": 0.020739,
     "end_time": "2023-05-23T16:29:17.956063",
     "exception": false,
     "start_time": "2023-05-23T16:29:17.935324",
     "status": "completed"
    },
    "tags": []
   },
   "outputs": [],
   "source": [
    "# train_dataset = make_datasets(train_padded, y_train, is_train=True)\n",
    "# val_dataset = make_datasets(val_padded, y_val)\n",
    "# test_dataset = make_datasets(test_padded, y_test)"
   ]
  },
  {
   "cell_type": "markdown",
   "id": "eed28927",
   "metadata": {
    "papermill": {
     "duration": 0.011705,
     "end_time": "2023-05-23T16:29:17.979702",
     "exception": false,
     "start_time": "2023-05-23T16:29:17.967997",
     "status": "completed"
    },
    "tags": []
   },
   "source": [
    "# TO DO: DIVIDIR LA LA BBDD EN VAL, TEST Y TRAIN\n",
    "1. SEPARAR TAMBIÉN PARAMETRO DE INTERÉS Y CLASE"
   ]
  },
  {
   "cell_type": "code",
   "execution_count": 17,
   "id": "aca0e48e",
   "metadata": {
    "execution": {
     "iopub.execute_input": "2023-05-23T16:29:18.006131Z",
     "iopub.status.busy": "2023-05-23T16:29:18.005257Z",
     "iopub.status.idle": "2023-05-23T16:29:18.094994Z",
     "shell.execute_reply": "2023-05-23T16:29:18.093621Z"
    },
    "papermill": {
     "duration": 0.106402,
     "end_time": "2023-05-23T16:29:18.097964",
     "exception": false,
     "start_time": "2023-05-23T16:29:17.991562",
     "status": "completed"
    },
    "tags": []
   },
   "outputs": [
    {
     "name": "stdout",
     "output_type": "stream",
     "text": [
      "Training data samples: 241774\n",
      "Test data samples: 60444\n"
     ]
    }
   ],
   "source": [
    "from sklearn.model_selection import train_test_split\n",
    "\n",
    "x_train, x_test, y_train, y_test = train_test_split(df_lyrics.lyrics, df_lyrics.tag, test_size=0.2, random_state=1)\n",
    "\n",
    "# val_split = 0.1\n",
    "# val_indices = int(len(x_train) * val_split)\n",
    "# new_x_train, new_y_train = x_train[val_indices:], y_train[val_indices:]\n",
    "# x_val, y_val = x_train[:val_indices], y_train[:val_indices]\n",
    "\n",
    "print(f\"Training data samples: {len(x_train)}\")\n",
    "print(f\"Test data samples: {len(x_test)}\")"
   ]
  },
  {
   "cell_type": "markdown",
   "id": "f0601d7c",
   "metadata": {
    "papermill": {
     "duration": 0.011787,
     "end_time": "2023-05-23T16:29:18.122016",
     "exception": false,
     "start_time": "2023-05-23T16:29:18.110229",
     "status": "completed"
    },
    "tags": []
   },
   "source": [
    "# GloVe\n",
    "1. LEER EL FICHERO GLOVE"
   ]
  },
  {
   "cell_type": "code",
   "execution_count": 18,
   "id": "52a408ef",
   "metadata": {
    "execution": {
     "iopub.execute_input": "2023-05-23T16:29:18.148670Z",
     "iopub.status.busy": "2023-05-23T16:29:18.148128Z",
     "iopub.status.idle": "2023-05-23T16:29:25.461060Z",
     "shell.execute_reply": "2023-05-23T16:29:25.459528Z"
    },
    "papermill": {
     "duration": 7.330556,
     "end_time": "2023-05-23T16:29:25.464773",
     "exception": false,
     "start_time": "2023-05-23T16:29:18.134217",
     "status": "completed"
    },
    "tags": []
   },
   "outputs": [],
   "source": [
    "import numpy as np\n",
    "\n",
    "def read_glove_vector(glove_vec):\n",
    "    with open(glove_vec, 'r', encoding='UTF-8') as f:\n",
    "        words = set()\n",
    "        word_to_vec_map = {}\n",
    "        for line in f:\n",
    "            w_line = line.split()\n",
    "            curr_word = w_line[0]\n",
    "            word_to_vec_map[curr_word] = np.array(w_line[1:], dtype=np.float64)\n",
    "\n",
    "    return word_to_vec_map\n",
    "word_to_vec_map = read_glove_vector('/kaggle/input/glove6b/glove.6B.50d.txt')"
   ]
  },
  {
   "cell_type": "code",
   "execution_count": 19,
   "id": "c7a01898",
   "metadata": {
    "execution": {
     "iopub.execute_input": "2023-05-23T16:29:25.491821Z",
     "iopub.status.busy": "2023-05-23T16:29:25.491265Z",
     "iopub.status.idle": "2023-05-23T16:29:26.268215Z",
     "shell.execute_reply": "2023-05-23T16:29:26.266913Z"
    },
    "papermill": {
     "duration": 0.794502,
     "end_time": "2023-05-23T16:29:26.271730",
     "exception": false,
     "start_time": "2023-05-23T16:29:25.477228",
     "status": "completed"
    },
    "tags": []
   },
   "outputs": [],
   "source": [
    "from keras.layers.embeddings import Embedding\n",
    "\n",
    "max_length = 200\n",
    "vocab_len = len(words_to_index)+1\n",
    "embed_vector_len = word_to_vec_map['moon'].shape[0]\n",
    "emb_matrix = np.zeros((vocab_len, embed_vector_len))\n",
    "\n",
    "for word, index in words_to_index.items():\n",
    "    embedding_vector = word_to_vec_map.get(word)\n",
    "    if embedding_vector is not None:\n",
    "        emb_matrix[index] = embedding_vector\n",
    "\n",
    "embedding_layer = Embedding(input_dim=vocab_len, output_dim=embed_vector_len, input_length=max_length, weights = [emb_matrix], trainable=False)"
   ]
  },
  {
   "cell_type": "markdown",
   "id": "522183b1",
   "metadata": {
    "papermill": {
     "duration": 0.011791,
     "end_time": "2023-05-23T16:29:26.296119",
     "exception": false,
     "start_time": "2023-05-23T16:29:26.284328",
     "status": "completed"
    },
    "tags": []
   },
   "source": [
    "# TO DO: CNN\n",
    "1. DEFINIMOS LA ESTRUCTURA DEL MODELO"
   ]
  },
  {
   "cell_type": "code",
   "execution_count": 20,
   "id": "3d579fcd",
   "metadata": {
    "execution": {
     "iopub.execute_input": "2023-05-23T16:29:26.322748Z",
     "iopub.status.busy": "2023-05-23T16:29:26.322200Z",
     "iopub.status.idle": "2023-05-23T16:29:26.329120Z",
     "shell.execute_reply": "2023-05-23T16:29:26.327823Z"
    },
    "papermill": {
     "duration": 0.023499,
     "end_time": "2023-05-23T16:29:26.331735",
     "exception": false,
     "start_time": "2023-05-23T16:29:26.308236",
     "status": "completed"
    },
    "tags": []
   },
   "outputs": [],
   "source": [
    "# from tensorflow import keras\n",
    "# from tensorflow.keras import layers\n",
    "\n",
    "# model = keras.models.Sequential()\n",
    "\n",
    "# # Input / Embdedding\n",
    "# model.add(layers.Input(shape=(max_length,), dtype='int32'))\n",
    "# model.add(embedding_layer)\n",
    "\n",
    "# # CNN\n",
    "# model.add(layers.Conv1D(128, 5, activation='relu'))\n",
    "# model.add(layers.Dropout(.6))\n",
    "# model.add(layers.MaxPooling1D(pool_size=5))\n",
    "\n",
    "# model.add(layers.Conv1D(128, 5, activation='relu'))\n",
    "# model.add(layers.Dropout(.6))\n",
    "# model.add(layers.MaxPooling1D(pool_size=5))\n",
    "\n",
    "# model.add(layers.Conv1D(64, 5, activation='relu'))\n",
    "# model.add(layers.Dropout(.1))\n",
    "# model.add(layers.MaxPooling1D(pool_size=3))\n",
    "\n",
    "# model.add(layers.Flatten())\n",
    "\n",
    "# #NN\n",
    "# model.add(layers.Dense(32, activation='relu'))\n",
    "\n",
    "# # Output layer\n",
    "# model.add(layers.Dense(6, activation=\"softmax\"))\n",
    "\n",
    "# model.summary()"
   ]
  },
  {
   "cell_type": "markdown",
   "id": "f2f9be72",
   "metadata": {
    "papermill": {
     "duration": 0.011882,
     "end_time": "2023-05-23T16:29:26.355903",
     "exception": false,
     "start_time": "2023-05-23T16:29:26.344021",
     "status": "completed"
    },
    "tags": []
   },
   "source": [
    "# TO DO: CROSS VALIDATION PARA PREDECIR TODO EL CONJUNTO DE TRAIN"
   ]
  },
  {
   "cell_type": "code",
   "execution_count": 21,
   "id": "64be3db1",
   "metadata": {
    "execution": {
     "iopub.execute_input": "2023-05-23T16:29:26.383369Z",
     "iopub.status.busy": "2023-05-23T16:29:26.382096Z",
     "iopub.status.idle": "2023-05-23T18:37:50.926481Z",
     "shell.execute_reply": "2023-05-23T18:37:50.925090Z"
    },
    "papermill": {
     "duration": 7709.994894,
     "end_time": "2023-05-23T18:37:56.363072",
     "exception": false,
     "start_time": "2023-05-23T16:29:26.368178",
     "status": "completed"
    },
    "tags": []
   },
   "outputs": [
    {
     "name": "stdout",
     "output_type": "stream",
     "text": [
      "Model: \"sequential\"\n",
      "_________________________________________________________________\n",
      "Layer (type)                 Output Shape              Param #   \n",
      "=================================================================\n",
      "embedding (Embedding)        (None, 200, 50)           24044050  \n",
      "_________________________________________________________________\n",
      "conv1d (Conv1D)              (None, 196, 128)          32128     \n",
      "_________________________________________________________________\n",
      "dropout (Dropout)            (None, 196, 128)          0         \n",
      "_________________________________________________________________\n",
      "max_pooling1d (MaxPooling1D) (None, 39, 128)           0         \n",
      "_________________________________________________________________\n",
      "conv1d_1 (Conv1D)            (None, 35, 128)           82048     \n",
      "_________________________________________________________________\n",
      "dropout_1 (Dropout)          (None, 35, 128)           0         \n",
      "_________________________________________________________________\n",
      "max_pooling1d_1 (MaxPooling1 (None, 7, 128)            0         \n",
      "_________________________________________________________________\n",
      "conv1d_2 (Conv1D)            (None, 3, 64)             41024     \n",
      "_________________________________________________________________\n",
      "dropout_2 (Dropout)          (None, 3, 64)             0         \n",
      "_________________________________________________________________\n",
      "max_pooling1d_2 (MaxPooling1 (None, 1, 64)             0         \n",
      "_________________________________________________________________\n",
      "flatten (Flatten)            (None, 64)                0         \n",
      "_________________________________________________________________\n",
      "dense (Dense)                (None, 32)                2080      \n",
      "_________________________________________________________________\n",
      "dense_1 (Dense)              (None, 6)                 198       \n",
      "=================================================================\n",
      "Total params: 24,201,528\n",
      "Trainable params: 157,478\n",
      "Non-trainable params: 24,044,050\n",
      "_________________________________________________________________\n",
      "Epoch 1/15\n",
      "1260/1260 [==============================] - 161s 127ms/step - loss: 1.3968 - accuracy: 0.4418 - val_loss: 1.4988 - val_accuracy: 0.4816\n",
      "Epoch 2/15\n",
      "1260/1260 [==============================] - 169s 134ms/step - loss: 1.3097 - accuracy: 0.4805 - val_loss: 1.4415 - val_accuracy: 0.4987\n",
      "Epoch 3/15\n",
      "1260/1260 [==============================] - 161s 128ms/step - loss: 1.2868 - accuracy: 0.4918 - val_loss: 1.4315 - val_accuracy: 0.5037\n",
      "Epoch 4/15\n",
      "1260/1260 [==============================] - 161s 128ms/step - loss: 1.2732 - accuracy: 0.4965 - val_loss: 1.4116 - val_accuracy: 0.5082\n",
      "Epoch 5/15\n",
      "1260/1260 [==============================] - 165s 131ms/step - loss: 1.2615 - accuracy: 0.5015 - val_loss: 1.4061 - val_accuracy: 0.5095\n",
      "Epoch 6/15\n",
      "1260/1260 [==============================] - 184s 146ms/step - loss: 1.2523 - accuracy: 0.5069 - val_loss: 1.3813 - val_accuracy: 0.5070\n",
      "Epoch 7/15\n",
      "1260/1260 [==============================] - 161s 128ms/step - loss: 1.2472 - accuracy: 0.5082 - val_loss: 1.3760 - val_accuracy: 0.5155\n",
      "Epoch 8/15\n",
      "1260/1260 [==============================] - 163s 129ms/step - loss: 1.2408 - accuracy: 0.5110 - val_loss: 1.3757 - val_accuracy: 0.5135\n",
      "Epoch 9/15\n",
      "1260/1260 [==============================] - 159s 126ms/step - loss: 1.2365 - accuracy: 0.5124 - val_loss: 1.3749 - val_accuracy: 0.5139\n",
      "Epoch 10/15\n",
      "1260/1260 [==============================] - 155s 123ms/step - loss: 1.2123 - accuracy: 0.5231 - val_loss: 1.3610 - val_accuracy: 0.5196\n",
      "Epoch 11/15\n",
      "1260/1260 [==============================] - 155s 123ms/step - loss: 1.2091 - accuracy: 0.5233 - val_loss: 1.3630 - val_accuracy: 0.5201\n",
      "Epoch 12/15\n",
      "1260/1260 [==============================] - 157s 124ms/step - loss: 1.2046 - accuracy: 0.5248 - val_loss: 1.3574 - val_accuracy: 0.5194\n",
      "Epoch 13/15\n",
      "1260/1260 [==============================] - 159s 126ms/step - loss: 1.2022 - accuracy: 0.5268 - val_loss: 1.3594 - val_accuracy: 0.5211\n",
      "Epoch 14/15\n",
      "1260/1260 [==============================] - 146s 116ms/step - loss: 1.1991 - accuracy: 0.5276 - val_loss: 1.3593 - val_accuracy: 0.5221\n",
      "Epoch 15/15\n",
      "1260/1260 [==============================] - 145s 115ms/step - loss: 1.1969 - accuracy: 0.5285 - val_loss: 1.3541 - val_accuracy: 0.5219\n"
     ]
    },
    {
     "data": {
      "image/png": "[encoded data removed]",
      "text/plain": [
       "<Figure size 432x288 with 1 Axes>"
      ]
     },
     "metadata": {
      "needs_background": "light"
     },
     "output_type": "display_data"
    },
    {
     "data": {
      "image/png": "[encoded data removed]",
      "text/plain": [
       "<Figure size 432x288 with 1 Axes>"
      ]
     },
     "metadata": {
      "needs_background": "light"
     },
     "output_type": "display_data"
    },
    {
     "name": "stdout",
     "output_type": "stream",
     "text": [
      "Model: \"sequential_1\"\n",
      "_________________________________________________________________\n",
      "Layer (type)                 Output Shape              Param #   \n",
      "=================================================================\n",
      "embedding (Embedding)        (None, 200, 50)           24044050  \n",
      "_________________________________________________________________\n",
      "conv1d_3 (Conv1D)            (None, 196, 128)          32128     \n",
      "_________________________________________________________________\n",
      "dropout_3 (Dropout)          (None, 196, 128)          0         \n",
      "_________________________________________________________________\n",
      "max_pooling1d_3 (MaxPooling1 (None, 39, 128)           0         \n",
      "_________________________________________________________________\n",
      "conv1d_4 (Conv1D)            (None, 35, 128)           82048     \n",
      "_________________________________________________________________\n",
      "dropout_4 (Dropout)          (None, 35, 128)           0         \n",
      "_________________________________________________________________\n",
      "max_pooling1d_4 (MaxPooling1 (None, 7, 128)            0         \n",
      "_________________________________________________________________\n",
      "conv1d_5 (Conv1D)            (None, 3, 64)             41024     \n",
      "_________________________________________________________________\n",
      "dropout_5 (Dropout)          (None, 3, 64)             0         \n",
      "_________________________________________________________________\n",
      "max_pooling1d_5 (MaxPooling1 (None, 1, 64)             0         \n",
      "_________________________________________________________________\n",
      "flatten_1 (Flatten)          (None, 64)                0         \n",
      "_________________________________________________________________\n",
      "dense_2 (Dense)              (None, 32)                2080      \n",
      "_________________________________________________________________\n",
      "dense_3 (Dense)              (None, 6)                 198       \n",
      "=================================================================\n",
      "Total params: 24,201,528\n",
      "Trainable params: 157,478\n",
      "Non-trainable params: 24,044,050\n",
      "_________________________________________________________________\n",
      "Epoch 1/15\n",
      "1260/1260 [==============================] - 143s 113ms/step - loss: 1.4220 - accuracy: 0.4300 - val_loss: 1.5492 - val_accuracy: 0.4525\n",
      "Epoch 2/15\n",
      "1260/1260 [==============================] - 140s 111ms/step - loss: 1.3413 - accuracy: 0.4672 - val_loss: 1.5224 - val_accuracy: 0.4727\n",
      "Epoch 3/15\n",
      "1260/1260 [==============================] - 142s 113ms/step - loss: 1.3149 - accuracy: 0.4795 - val_loss: 1.4884 - val_accuracy: 0.4861\n",
      "Epoch 4/15\n",
      "1260/1260 [==============================] - 144s 115ms/step - loss: 1.2980 - accuracy: 0.4874 - val_loss: 1.4846 - val_accuracy: 0.4819\n",
      "Epoch 5/15\n",
      "1260/1260 [==============================] - 148s 117ms/step - loss: 1.2841 - accuracy: 0.4931 - val_loss: 1.4587 - val_accuracy: 0.4941\n",
      "Epoch 6/15\n",
      "1260/1260 [==============================] - 149s 118ms/step - loss: 1.2732 - accuracy: 0.4976 - val_loss: 1.4630 - val_accuracy: 0.4945\n",
      "Epoch 7/15\n",
      "1260/1260 [==============================] - 147s 117ms/step - loss: 1.2642 - accuracy: 0.5028 - val_loss: 1.4383 - val_accuracy: 0.5050\n",
      "Epoch 8/15\n",
      "1260/1260 [==============================] - 146s 116ms/step - loss: 1.2574 - accuracy: 0.5050 - val_loss: 1.4426 - val_accuracy: 0.5023\n",
      "Epoch 9/15\n",
      "1260/1260 [==============================] - 151s 120ms/step - loss: 1.2495 - accuracy: 0.5081 - val_loss: 1.4321 - val_accuracy: 0.5087\n",
      "Epoch 10/15\n",
      "1260/1260 [==============================] - 162s 129ms/step - loss: 1.2435 - accuracy: 0.5106 - val_loss: 1.4223 - val_accuracy: 0.5068\n",
      "Epoch 11/15\n",
      "1260/1260 [==============================] - 161s 128ms/step - loss: 1.2386 - accuracy: 0.5128 - val_loss: 1.4188 - val_accuracy: 0.5092\n",
      "Epoch 12/15\n",
      "1260/1260 [==============================] - 159s 126ms/step - loss: 1.2348 - accuracy: 0.5146 - val_loss: 1.4156 - val_accuracy: 0.5127\n",
      "Epoch 13/15\n",
      "1260/1260 [==============================] - 157s 125ms/step - loss: 1.2293 - accuracy: 0.5164 - val_loss: 1.4111 - val_accuracy: 0.5148\n",
      "Epoch 14/15\n",
      "1260/1260 [==============================] - 161s 128ms/step - loss: 1.2260 - accuracy: 0.5178 - val_loss: 1.4057 - val_accuracy: 0.5161\n",
      "Epoch 15/15\n",
      "1260/1260 [==============================] - 159s 126ms/step - loss: 1.2226 - accuracy: 0.5185 - val_loss: 1.4051 - val_accuracy: 0.5097\n"
     ]
    },
    {
     "data": {
      "image/png": "[encoded data removed]",
      "text/plain": [
       "<Figure size 432x288 with 1 Axes>"
      ]
     },
     "metadata": {
      "needs_background": "light"
     },
     "output_type": "display_data"
    },
    {
     "data": {
      "image/png": "[encoded data removed]",
      "text/plain": [
       "<Figure size 432x288 with 1 Axes>"
      ]
     },
     "metadata": {
      "needs_background": "light"
     },
     "output_type": "display_data"
    },
    {
     "name": "stdout",
     "output_type": "stream",
     "text": [
      "Model: \"sequential_2\"\n",
      "_________________________________________________________________\n",
      "Layer (type)                 Output Shape              Param #   \n",
      "=================================================================\n",
      "embedding (Embedding)        (None, 200, 50)           24044050  \n",
      "_________________________________________________________________\n",
      "conv1d_6 (Conv1D)            (None, 196, 128)          32128     \n",
      "_________________________________________________________________\n",
      "dropout_6 (Dropout)          (None, 196, 128)          0         \n",
      "_________________________________________________________________\n",
      "max_pooling1d_6 (MaxPooling1 (None, 39, 128)           0         \n",
      "_________________________________________________________________\n",
      "conv1d_7 (Conv1D)            (None, 35, 128)           82048     \n",
      "_________________________________________________________________\n",
      "dropout_7 (Dropout)          (None, 35, 128)           0         \n",
      "_________________________________________________________________\n",
      "max_pooling1d_7 (MaxPooling1 (None, 7, 128)            0         \n",
      "_________________________________________________________________\n",
      "conv1d_8 (Conv1D)            (None, 3, 64)             41024     \n",
      "_________________________________________________________________\n",
      "dropout_8 (Dropout)          (None, 3, 64)             0         \n",
      "_________________________________________________________________\n",
      "max_pooling1d_8 (MaxPooling1 (None, 1, 64)             0         \n",
      "_________________________________________________________________\n",
      "flatten_2 (Flatten)          (None, 64)                0         \n",
      "_________________________________________________________________\n",
      "dense_4 (Dense)              (None, 32)                2080      \n",
      "_________________________________________________________________\n",
      "dense_5 (Dense)              (None, 6)                 198       \n",
      "=================================================================\n",
      "Total params: 24,201,528\n",
      "Trainable params: 157,478\n",
      "Non-trainable params: 24,044,050\n",
      "_________________________________________________________________\n",
      "Epoch 1/15\n",
      "1260/1260 [==============================] - 164s 130ms/step - loss: 1.4098 - accuracy: 0.4365 - val_loss: 1.5540 - val_accuracy: 0.4475\n",
      "Epoch 2/15\n",
      "1260/1260 [==============================] - 160s 127ms/step - loss: 1.3348 - accuracy: 0.4711 - val_loss: 1.5152 - val_accuracy: 0.4743\n",
      "Epoch 3/15\n",
      "1260/1260 [==============================] - 159s 127ms/step - loss: 1.3098 - accuracy: 0.4826 - val_loss: 1.4971 - val_accuracy: 0.4858\n",
      "Epoch 4/15\n",
      "1260/1260 [==============================] - 162s 129ms/step - loss: 1.2923 - accuracy: 0.4902 - val_loss: 1.4797 - val_accuracy: 0.4942\n",
      "Epoch 5/15\n",
      "1260/1260 [==============================] - 160s 127ms/step - loss: 1.2809 - accuracy: 0.4944 - val_loss: 1.4755 - val_accuracy: 0.4961\n",
      "Epoch 6/15\n",
      "1260/1260 [==============================] - 161s 128ms/step - loss: 1.2698 - accuracy: 0.4996 - val_loss: 1.4520 - val_accuracy: 0.4992\n",
      "Epoch 7/15\n",
      "1260/1260 [==============================] - 165s 131ms/step - loss: 1.2611 - accuracy: 0.5027 - val_loss: 1.4417 - val_accuracy: 0.5079\n",
      "Epoch 8/15\n",
      "1260/1260 [==============================] - 163s 129ms/step - loss: 1.2536 - accuracy: 0.5060 - val_loss: 1.4397 - val_accuracy: 0.5109\n",
      "Epoch 9/15\n",
      "1260/1260 [==============================] - 165s 131ms/step - loss: 1.2465 - accuracy: 0.5093 - val_loss: 1.4293 - val_accuracy: 0.5108\n",
      "Epoch 10/15\n",
      "1260/1260 [==============================] - 164s 130ms/step - loss: 1.2408 - accuracy: 0.5105 - val_loss: 1.4348 - val_accuracy: 0.5026\n",
      "Epoch 11/15\n",
      "1260/1260 [==============================] - 159s 126ms/step - loss: 1.2299 - accuracy: 0.5162 - val_loss: 1.4265 - val_accuracy: 0.5125\n",
      "Epoch 12/15\n",
      "1260/1260 [==============================] - 161s 127ms/step - loss: 1.2272 - accuracy: 0.5167 - val_loss: 1.4192 - val_accuracy: 0.5150\n",
      "Epoch 13/15\n",
      "1260/1260 [==============================] - 168s 133ms/step - loss: 1.2259 - accuracy: 0.5170 - val_loss: 1.4227 - val_accuracy: 0.5138\n",
      "Epoch 14/15\n",
      "1260/1260 [==============================] - 164s 130ms/step - loss: 1.2241 - accuracy: 0.5172 - val_loss: 1.4187 - val_accuracy: 0.5155\n",
      "Epoch 15/15\n",
      "1260/1260 [==============================] - 160s 127ms/step - loss: 1.2215 - accuracy: 0.5189 - val_loss: 1.4196 - val_accuracy: 0.5144\n"
     ]
    },
    {
     "data": {
      "image/png": "[encoded data removed]",
      "text/plain": [
       "<Figure size 432x288 with 1 Axes>"
      ]
     },
     "metadata": {
      "needs_background": "light"
     },
     "output_type": "display_data"
    },
    {
     "data": {
      "image/png": "[encoded data removed]",
      "text/plain": [
       "<Figure size 432x288 with 1 Axes>"
      ]
     },
     "metadata": {
      "needs_background": "light"
     },
     "output_type": "display_data"
    },
    {
     "name": "stdout",
     "output_type": "stream",
     "text": [
      "\n",
      "Métricas en entrenamiento:\n"
     ]
    },
    {
     "data": {
      "text/html": [
       "<div>\n",
       "<style scoped>\n",
       "    .dataframe tbody tr th:only-of-type {\n",
       "        vertical-align: middle;\n",
       "    }\n",
       "\n",
       "    .dataframe tbody tr th {\n",
       "        vertical-align: top;\n",
       "    }\n",
       "\n",
       "    .dataframe thead th {\n",
       "        text-align: right;\n",
       "    }\n",
       "</style>\n",
       "<table border=\"1\" class=\"dataframe\">\n",
       "  <thead>\n",
       "    <tr style=\"text-align: right;\">\n",
       "      <th></th>\n",
       "      <th>precision</th>\n",
       "      <th>recall</th>\n",
       "      <th>f1-score</th>\n",
       "      <th>support</th>\n",
       "    </tr>\n",
       "  </thead>\n",
       "  <tbody>\n",
       "    <tr>\n",
       "      <th>0</th>\n",
       "      <td>0.593413</td>\n",
       "      <td>0.734106</td>\n",
       "      <td>0.656304</td>\n",
       "      <td>56105.000000</td>\n",
       "    </tr>\n",
       "    <tr>\n",
       "      <th>1</th>\n",
       "      <td>0.828120</td>\n",
       "      <td>0.179518</td>\n",
       "      <td>0.295072</td>\n",
       "      <td>13124.000000</td>\n",
       "    </tr>\n",
       "    <tr>\n",
       "      <th>2</th>\n",
       "      <td>0.292384</td>\n",
       "      <td>0.270167</td>\n",
       "      <td>0.280837</td>\n",
       "      <td>47219.000000</td>\n",
       "    </tr>\n",
       "    <tr>\n",
       "      <th>3</th>\n",
       "      <td>0.653735</td>\n",
       "      <td>0.677163</td>\n",
       "      <td>0.665243</td>\n",
       "      <td>29439.000000</td>\n",
       "    </tr>\n",
       "    <tr>\n",
       "      <th>4</th>\n",
       "      <td>0.545134</td>\n",
       "      <td>0.451196</td>\n",
       "      <td>0.493736</td>\n",
       "      <td>43152.000000</td>\n",
       "    </tr>\n",
       "    <tr>\n",
       "      <th>5</th>\n",
       "      <td>0.494445</td>\n",
       "      <td>0.559571</td>\n",
       "      <td>0.524996</td>\n",
       "      <td>52735.000000</td>\n",
       "    </tr>\n",
       "    <tr>\n",
       "      <th>accuracy</th>\n",
       "      <td>0.517897</td>\n",
       "      <td>0.517897</td>\n",
       "      <td>0.517897</td>\n",
       "      <td>0.517897</td>\n",
       "    </tr>\n",
       "    <tr>\n",
       "      <th>macro avg</th>\n",
       "      <td>0.567872</td>\n",
       "      <td>0.478620</td>\n",
       "      <td>0.486031</td>\n",
       "      <td>241774.000000</td>\n",
       "    </tr>\n",
       "    <tr>\n",
       "      <th>weighted avg</th>\n",
       "      <td>0.524503</td>\n",
       "      <td>0.517897</td>\n",
       "      <td>0.506799</td>\n",
       "      <td>241774.000000</td>\n",
       "    </tr>\n",
       "  </tbody>\n",
       "</table>\n",
       "</div>"
      ],
      "text/plain": [
       "              precision    recall  f1-score        support\n",
       "0              0.593413  0.734106  0.656304   56105.000000\n",
       "1              0.828120  0.179518  0.295072   13124.000000\n",
       "2              0.292384  0.270167  0.280837   47219.000000\n",
       "3              0.653735  0.677163  0.665243   29439.000000\n",
       "4              0.545134  0.451196  0.493736   43152.000000\n",
       "5              0.494445  0.559571  0.524996   52735.000000\n",
       "accuracy       0.517897  0.517897  0.517897       0.517897\n",
       "macro avg      0.567872  0.478620  0.486031  241774.000000\n",
       "weighted avg   0.524503  0.517897  0.506799  241774.000000"
      ]
     },
     "execution_count": 21,
     "metadata": {},
     "output_type": "execute_result"
    }
   ],
   "source": [
    "from sklearn.model_selection import KFold\n",
    "from sklearn.metrics import classification_report\n",
    "from sklearn.metrics import accuracy_score\n",
    "\n",
    "from tensorflow import keras\n",
    "from keras import layers\n",
    "from keras.preprocessing.sequence import pad_sequences\n",
    "from keras.layers.embeddings import Embedding\n",
    "\n",
    "\n",
    "cv = KFold(n_splits=3, random_state=42, shuffle=True)\n",
    "loss = keras.losses.SparseCategoricalCrossentropy(from_logits=False)\n",
    "optimizer = keras.optimizers.Adam(learning_rate=0.001)\n",
    "metrics = [\"accuracy\"]\n",
    "\n",
    "pred_probs_train = np.zeros((len(y_train), len(np.unique(y_train))))\n",
    "best_score = 0\n",
    "best_model_path = None\n",
    "reduce_lr = keras.callbacks.ReduceLROnPlateau(monitor='val_accuracy',\n",
    "                                                 factor=0.2,\n",
    "                                                 patience=2,\n",
    "                                                 min_lr=0.000001)\n",
    "\n",
    "for i, (train_index, test_index) in enumerate(cv.split(x_train, y_train)):\n",
    "    \n",
    "    checkpoint_filepath = f\"/kaggle/working/tmp/checkpoint_{i+1}\"\n",
    "    checkpoint_callback = keras.callbacks.ModelCheckpoint(checkpoint_filepath,\n",
    "                                                          monitor=\"val_accuracy\",\n",
    "                                                          save_best_only=True,\n",
    "                                                          save_weights_only=False)\n",
    "    \n",
    "    x_train_cv, x_test_cv = x_train.iloc[train_index], x_train.iloc[test_index]\n",
    "    y_train_cv, y_test_cv = y_train.iloc[train_index], y_train.iloc[test_index]\n",
    "    \n",
    "    # creacion de bases de datos\n",
    "    train_dataset = make_datasets(\n",
    "        pad_sequences(\n",
    "            tokenizer.texts_to_sequences(x_train_cv),\n",
    "            maxlen=max_length, padding=\"post\",\n",
    "            truncating=\"post\"),\n",
    "        y_train_cv, is_train=True)\n",
    "    \n",
    "    val_padded = pad_sequences(\n",
    "            tokenizer.texts_to_sequences(x_test_cv),\n",
    "            maxlen=max_length, padding=\"post\",\n",
    "            truncating=\"post\")\n",
    "    val_dataset = make_datasets(val_padded, y_test_cv)\n",
    "    \n",
    "    # construccion del modelo\n",
    "    model = keras.models.Sequential()\n",
    "    model.add(layers.Input(shape=(max_length,), dtype='int32'))\n",
    "    model.add(embedding_layer)\n",
    "    model.add(layers.Conv1D(128, 5, activation='relu'))\n",
    "    model.add(layers.Dropout(.6))\n",
    "    model.add(layers.MaxPooling1D(pool_size=5))\n",
    "    model.add(layers.Conv1D(128, 5, activation='relu'))\n",
    "    model.add(layers.Dropout(.6))\n",
    "    model.add(layers.MaxPooling1D(pool_size=5))\n",
    "    model.add(layers.Conv1D(64, 5, activation='relu'))\n",
    "    model.add(layers.Dropout(.1))\n",
    "    model.add(layers.MaxPooling1D(pool_size=3))\n",
    "    model.add(layers.Flatten())\n",
    "    model.add(layers.Dense(32, activation='relu'))\n",
    "    model.add(layers.Dense(6, activation=\"softmax\"))\n",
    "\n",
    "    model.summary()\n",
    "    \n",
    "    # entrenamiento del modelo\n",
    "    model.compile(loss=loss, optimizer=optimizer, metrics=metrics)\n",
    "    history = model.fit(train_dataset, epochs=15, validation_data=val_dataset, callbacks=[checkpoint_callback, reduce_lr])\n",
    "    \n",
    "    plt.title(f'Accuracy durante la #{i+1}-CV')\n",
    "    plt.plot(history.history['accuracy'], label='train acc')\n",
    "    plt.plot(history.history['val_accuracy'], label='val acc')\n",
    "    plt.legend()\n",
    "    plt.show()\n",
    "    \n",
    "    plt.title(f'Loss durante la #{i+1}-CV')\n",
    "    plt.plot(history.history['loss'], label='train loss')\n",
    "    plt.plot(history.history['val_loss'], label='val loss')\n",
    "    plt.legend()\n",
    "    plt.show()\n",
    "    \n",
    "    # predicciones sobre el conjunto test de la cv\n",
    "    model.load_weights(checkpoint_filepath)\n",
    "    pred_probs_train[test_index] = model.predict(val_padded)\n",
    "    score = accuracy_score(y_test_cv, np.argmax(pred_probs_train[test_index], axis=1))\n",
    "    \n",
    "    if score > best_score:\n",
    "        best_score = score\n",
    "        best_model_path = checkpoint_filepath\n",
    "        \n",
    "\n",
    "y_train_pred = np.argmax(pred_probs_train, axis=1)\n",
    "report = classification_report(y_train, y_train_pred, output_dict=True)\n",
    "\n",
    "print('\\nMétricas en entrenamiento:')\n",
    "pd.DataFrame(report).T "
   ]
  },
  {
   "cell_type": "markdown",
   "id": "23bc23ad",
   "metadata": {
    "papermill": {
     "duration": 5.357401,
     "end_time": "2023-05-23T18:38:07.347001",
     "exception": false,
     "start_time": "2023-05-23T18:38:01.989600",
     "status": "completed"
    },
    "tags": []
   },
   "source": [
    "# TO DO: TESTEAR LA PRECISIÓN\n",
    "0. 'country' \n",
    "1. 'misc' \n",
    "2. 'pop'\n",
    "3. 'rap'\n",
    "4. 'rb'\n",
    "5. 'rock'"
   ]
  },
  {
   "cell_type": "code",
   "execution_count": 22,
   "id": "a5dfb5a4",
   "metadata": {
    "execution": {
     "iopub.execute_input": "2023-05-23T18:38:18.259943Z",
     "iopub.status.busy": "2023-05-23T18:38:18.259441Z",
     "iopub.status.idle": "2023-05-23T18:38:47.511935Z",
     "shell.execute_reply": "2023-05-23T18:38:47.510436Z"
    },
    "papermill": {
     "duration": 34.588146,
     "end_time": "2023-05-23T18:38:47.514866",
     "exception": false,
     "start_time": "2023-05-23T18:38:12.926720",
     "status": "completed"
    },
    "tags": []
   },
   "outputs": [
    {
     "name": "stdout",
     "output_type": "stream",
     "text": [
      "\n",
      "Métricas en test:\n"
     ]
    },
    {
     "data": {
      "text/html": [
       "<div>\n",
       "<style scoped>\n",
       "    .dataframe tbody tr th:only-of-type {\n",
       "        vertical-align: middle;\n",
       "    }\n",
       "\n",
       "    .dataframe tbody tr th {\n",
       "        vertical-align: top;\n",
       "    }\n",
       "\n",
       "    .dataframe thead th {\n",
       "        text-align: right;\n",
       "    }\n",
       "</style>\n",
       "<table border=\"1\" class=\"dataframe\">\n",
       "  <thead>\n",
       "    <tr style=\"text-align: right;\">\n",
       "      <th></th>\n",
       "      <th>precision</th>\n",
       "      <th>recall</th>\n",
       "      <th>f1-score</th>\n",
       "      <th>support</th>\n",
       "    </tr>\n",
       "  </thead>\n",
       "  <tbody>\n",
       "    <tr>\n",
       "      <th>0</th>\n",
       "      <td>0.589996</td>\n",
       "      <td>0.754209</td>\n",
       "      <td>0.662072</td>\n",
       "      <td>14138.000000</td>\n",
       "    </tr>\n",
       "    <tr>\n",
       "      <th>1</th>\n",
       "      <td>0.867318</td>\n",
       "      <td>0.182970</td>\n",
       "      <td>0.302190</td>\n",
       "      <td>3394.000000</td>\n",
       "    </tr>\n",
       "    <tr>\n",
       "      <th>2</th>\n",
       "      <td>0.301660</td>\n",
       "      <td>0.210668</td>\n",
       "      <td>0.248083</td>\n",
       "      <td>11905.000000</td>\n",
       "    </tr>\n",
       "    <tr>\n",
       "      <th>3</th>\n",
       "      <td>0.676201</td>\n",
       "      <td>0.664024</td>\n",
       "      <td>0.670057</td>\n",
       "      <td>7441.000000</td>\n",
       "    </tr>\n",
       "    <tr>\n",
       "      <th>4</th>\n",
       "      <td>0.537287</td>\n",
       "      <td>0.481954</td>\n",
       "      <td>0.508118</td>\n",
       "      <td>10584.000000</td>\n",
       "    </tr>\n",
       "    <tr>\n",
       "      <th>5</th>\n",
       "      <td>0.474486</td>\n",
       "      <td>0.604529</td>\n",
       "      <td>0.531671</td>\n",
       "      <td>12982.000000</td>\n",
       "    </tr>\n",
       "    <tr>\n",
       "      <th>accuracy</th>\n",
       "      <td>0.524155</td>\n",
       "      <td>0.524155</td>\n",
       "      <td>0.524155</td>\n",
       "      <td>0.524155</td>\n",
       "    </tr>\n",
       "    <tr>\n",
       "      <th>macro avg</th>\n",
       "      <td>0.574491</td>\n",
       "      <td>0.483059</td>\n",
       "      <td>0.487032</td>\n",
       "      <td>60444.000000</td>\n",
       "    </tr>\n",
       "    <tr>\n",
       "      <th>weighted avg</th>\n",
       "      <td>0.525351</td>\n",
       "      <td>0.524155</td>\n",
       "      <td>0.506343</td>\n",
       "      <td>60444.000000</td>\n",
       "    </tr>\n",
       "  </tbody>\n",
       "</table>\n",
       "</div>"
      ],
      "text/plain": [
       "              precision    recall  f1-score       support\n",
       "0              0.589996  0.754209  0.662072  14138.000000\n",
       "1              0.867318  0.182970  0.302190   3394.000000\n",
       "2              0.301660  0.210668  0.248083  11905.000000\n",
       "3              0.676201  0.664024  0.670057   7441.000000\n",
       "4              0.537287  0.481954  0.508118  10584.000000\n",
       "5              0.474486  0.604529  0.531671  12982.000000\n",
       "accuracy       0.524155  0.524155  0.524155      0.524155\n",
       "macro avg      0.574491  0.483059  0.487032  60444.000000\n",
       "weighted avg   0.525351  0.524155  0.506343  60444.000000"
      ]
     },
     "execution_count": 22,
     "metadata": {},
     "output_type": "execute_result"
    }
   ],
   "source": [
    "model.load_weights(best_model_path)\n",
    "\n",
    "test_padded = pad_sequences(\n",
    "            tokenizer.texts_to_sequences(x_test),\n",
    "            maxlen=max_length, padding=\"post\",\n",
    "            truncating=\"post\")\n",
    "\n",
    "pred_probs_test = model.predict(test_padded)\n",
    "y_test_pred = np.argmax(pred_probs_test, axis=1)\n",
    "report = classification_report(y_test, y_test_pred, output_dict=True)\n",
    "\n",
    "print('\\nMétricas en test:')\n",
    "pd.DataFrame(report).T"
   ]
  },
  {
   "cell_type": "markdown",
   "id": "f43e32dd",
   "metadata": {
    "papermill": {
     "duration": 5.421764,
     "end_time": "2023-05-23T18:38:58.440362",
     "exception": false,
     "start_time": "2023-05-23T18:38:53.018598",
     "status": "completed"
    },
    "tags": []
   },
   "source": [
    "# TO DO: GUARDAR LAS PRED_PROBAS DE TRAIN"
   ]
  },
  {
   "cell_type": "code",
   "execution_count": 23,
   "id": "062b74a2",
   "metadata": {
    "execution": {
     "iopub.execute_input": "2023-05-23T18:39:09.305201Z",
     "iopub.status.busy": "2023-05-23T18:39:09.304337Z",
     "iopub.status.idle": "2023-05-23T18:39:12.890000Z",
     "shell.execute_reply": "2023-05-23T18:39:12.888557Z"
    },
    "papermill": {
     "duration": 9.140606,
     "end_time": "2023-05-23T18:39:12.893487",
     "exception": false,
     "start_time": "2023-05-23T18:39:03.752881",
     "status": "completed"
    },
    "tags": []
   },
   "outputs": [],
   "source": [
    "df_pred_probs_train = pd.DataFrame(pred_probs_train, columns = ['prob_0','prob_1','prob_2','prob_3','prob_4','prob_5'])\n",
    "y_train.reset_index(drop=True, inplace=True)\n",
    "\n",
    "df_train = pd.merge(df_pred_probs_train, y_train, right_index=True, left_index=True)\n",
    "df_train.to_csv('/kaggle/working/predicts_vs_real_TRAIN.csv')"
   ]
  },
  {
   "cell_type": "markdown",
   "id": "4b558c8f",
   "metadata": {
    "papermill": {
     "duration": 5.505621,
     "end_time": "2023-05-23T18:39:23.791894",
     "exception": false,
     "start_time": "2023-05-23T18:39:18.286273",
     "status": "completed"
    },
    "tags": []
   },
   "source": [
    "# TO DO: DEVOLVER PROBABILIDADES PREDICHAS Y CLASE REAL EN TEST"
   ]
  },
  {
   "cell_type": "code",
   "execution_count": 24,
   "id": "a4b7ff64",
   "metadata": {
    "execution": {
     "iopub.execute_input": "2023-05-23T18:39:34.827113Z",
     "iopub.status.busy": "2023-05-23T18:39:34.826561Z",
     "iopub.status.idle": "2023-05-23T18:39:35.473380Z",
     "shell.execute_reply": "2023-05-23T18:39:35.471566Z"
    },
    "papermill": {
     "duration": 6.226323,
     "end_time": "2023-05-23T18:39:35.476916",
     "exception": false,
     "start_time": "2023-05-23T18:39:29.250593",
     "status": "completed"
    },
    "tags": []
   },
   "outputs": [],
   "source": [
    "df_pred_probs_test = pd.DataFrame(pred_probs_test, columns = ['prob_0','prob_1','prob_2','prob_3','prob_4','prob_5'])\n",
    "y_test.reset_index(drop=True, inplace=True)\n",
    "\n",
    "df_test = pd.merge(df_pred_probs_test, y_test, right_index=True, left_index=True)\n",
    "df_test.to_csv('/kaggle/working/predicts_vs_real_TEST.csv')"
   ]
  }
 ],
 "metadata": {
  "kernelspec": {
   "display_name": "Python 3",
   "language": "python",
   "name": "python3"
  },
  "language_info": {
   "codemirror_mode": {
    "name": "ipython",
    "version": 3
   },
   "file_extension": ".py",
   "mimetype": "text/x-python",
   "name": "python",
   "nbconvert_exporter": "python",
   "pygments_lexer": "ipython3",
   "version": "3.7.12"
  },
  "papermill": {
   "default_parameters": {},
   "duration": 8195.867703,
   "end_time": "2023-05-23T18:39:43.766165",
   "environment_variables": {},
   "exception": null,
   "input_path": "__notebook__.ipynb",
   "output_path": "__notebook__.ipynb",
   "parameters": {},
   "start_time": "2023-05-23T16:23:07.898462",
   "version": "2.3.4"
  }
 },
 "nbformat": 4,
 "nbformat_minor": 5
}
